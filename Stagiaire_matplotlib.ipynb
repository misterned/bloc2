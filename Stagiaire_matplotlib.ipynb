{
 "cells": [
  {
   "cell_type": "markdown",
   "metadata": {
    "colab_type": "text",
    "id": "BZStPnI__GEn"
   },
   "source": [
    "# `matplotlib` - 2D"
   ]
  },
  {
   "cell_type": "markdown",
   "metadata": {
    "colab_type": "text",
    "id": "Fak7O7Nj_GEo"
   },
   "source": [
    "## Complément - niveau basique"
   ]
  },
  {
   "cell_type": "markdown",
   "metadata": {
    "colab_type": "text",
    "id": "3NhUCmWt_GEp"
   },
   "source": [
    "Voici des ressources exhaustives disponibles en ligne en anglais :\n",
    "\n",
    "* pour la dimension 2 : https://matplotlib.org/2.0.2/users/pyplot_tutorial.html ;\n",
    "* pour la dimension 3 : https://matplotlib.org/mpl_toolkits/mplot3d/tutorial.html.\n",
    "\n",
    "Ci-dessous quelques extraits. N'hésitez pas à consulter ces documents originaux pour davantage de précisions."
   ]
  },
  {
   "cell_type": "code",
   "execution_count": null,
   "metadata": {
    "colab": {},
    "colab_type": "code",
    "collapsed": true,
    "id": "JM1dK6W2_GEq"
   },
   "outputs": [],
   "source": [
    "# les imports habituels\n",
    "import numpy as np\n",
    "import matplotlib.pyplot as plt"
   ]
  },
  {
   "cell_type": "markdown",
   "metadata": {
    "colab_type": "text",
    "id": "uZNLKwar_GEu"
   },
   "source": [
    "### `plt.plot`"
   ]
  },
  {
   "cell_type": "markdown",
   "metadata": {
    "colab_type": "text",
    "id": "ucaocubR_GEv"
   },
   "source": [
    "Tracer une courbe avec `matplotlib`, avec la fonction `plot`:\n",
    "Si on donne seulement *une* liste de valeurs, elles sont considérées comme les *Y*, les *X* étant les entiers en nombre suffisant et en commençant à 0."
   ]
  },
  {
   "cell_type": "code",
   "execution_count": null,
   "metadata": {
    "colab": {
     "base_uri": "https://localhost:8080/",
     "height": 269
    },
    "colab_type": "code",
    "collapsed": false,
    "id": "6HAnhmcH_GEw",
    "outputId": "657ae546-f5f2-4933-e627-177e87c560fd"
   },
   "outputs": [],
   "source": [
    "# si je ne donne qu'une seule liste à plot\n",
    "# alors ce sont les Y\n",
    "plt.plot([10, 20, 25, 28])\n",
    "# on peut aussi facilement ajouter une légende\n",
    "# ici sur l'axes des y\n",
    "plt.ylabel('some numbers')\n",
    "\n",
    "plt.show()"
   ]
  },
  {
   "cell_type": "markdown",
   "metadata": {
    "colab_type": "text",
    "id": "bdeWMul1_GEz"
   },
   "source": [
    "On peut changer le style utilisé par `plot` pour tracer ; ce style est spécifié sous la forme d'une chaîne de caractères, par défaut `'b-'`, qui signifie une ligne bleue (`b` pour bleu, et `-` pour ligne). Ici on va préciser à la place `ro`, `r` qui signifie rouge et `o` qui signifie cercle.\n",
    "\n",
    "Voyez [la documentation de référence de plot](https://matplotlib.org/2.0.2/api/pyplot_api.html#matplotlib.pyplot.plot) pour une liste complète."
   ]
  },
  {
   "cell_type": "code",
   "execution_count": null,
   "metadata": {
    "colab": {
     "base_uri": "https://localhost:8080/",
     "height": 269
    },
    "colab_type": "code",
    "collapsed": false,
    "id": "STJ6u4q4_GE0",
    "outputId": "50c261fb-0b3c-42d2-e30f-2a2ceb4951c9"
   },
   "outputs": [],
   "source": [
    "# mais le plus souvent on passe à plot\n",
    "# une liste de X ET une liste de Y\n",
    "plt.plot([1, 2, 3, 4, 5], [1, 4, 9, 16, 25], 'ro')\n",
    "\n",
    "# ici on veut dire d'utiliser\n",
    "# pour l'axe des X : entre 0 et 5\n",
    "# pour l'axe des Y : entre -5 et 20\n",
    "plt.axis([0, 5, -5, 20])\n",
    "\n",
    "plt.show()"
   ]
  },
  {
   "cell_type": "markdown",
   "metadata": {
    "colab_type": "text",
    "id": "qrC_febw_GE3"
   },
   "source": [
    "On peut très simplement dessiner plusieurs fonctions dans la même zone :"
   ]
  },
  {
   "cell_type": "code",
   "execution_count": null,
   "metadata": {
    "colab": {
     "base_uri": "https://localhost:8080/",
     "height": 269
    },
    "colab_type": "code",
    "collapsed": false,
    "id": "IJGtTg-n_GE4",
    "outputId": "ad2c4091-2345-485f-80ab-b51d73cf98ec"
   },
   "outputs": [],
   "source": [
    "# échantillon de points entre 0 et 5 espacés de 0.2\n",
    "t = np.arange(0., 5., 0.2)\n",
    "\n",
    "# plusieurs styles de ligne\n",
    "plt.plot(t, t, 'r--', t, t**2, 'bs', t, t**3, 'g^')\n",
    "# on pourrait ajouter d'autres plot bien sûr aussi\n",
    "plt.show()"
   ]
  },
  {
   "cell_type": "markdown",
   "metadata": {
    "colab_type": "text",
    "id": "W3W4S4Op_GE8"
   },
   "source": [
    "### Plusieurs *subplots*"
   ]
  },
  {
   "cell_type": "code",
   "execution_count": null,
   "metadata": {
    "colab": {
     "base_uri": "https://localhost:8080/",
     "height": 269
    },
    "colab_type": "code",
    "collapsed": false,
    "id": "X9x-UdI8_GE9",
    "outputId": "045376a9-cde5-4134-aabe-e48fdddb0381"
   },
   "outputs": [],
   "source": [
    "def f(t):\n",
    "    return np.exp(-t) * np.cos(2*np.pi*t)\n",
    "\n",
    "## deux domaines presque identiques\n",
    "# celui-ci pour les points bleus\n",
    "t1 = np.arange(0.0, 5.0, 0.1)\n",
    "# celui-ci pour la ligne bleue\n",
    "t2 = np.arange(0.0, 5.0, 0.02)\n",
    "\n",
    "# cet appel n'est pas nécessaire\n",
    "# vous pouvez vérifier qu'on pourrait l'enlever\n",
    "plt.figure(1)\n",
    "# on crée un 'subplot'\n",
    "plt.subplot(211)\n",
    "# le fonctionnement de matplotlib est dit 'stateful'\n",
    "# par défaut on dessine dans le dernier objet créé\n",
    "plt.axis([0, 5, -1, 1])\n",
    "plt.plot(t1, f(t1), 'bo', t2, f(t2), 'k')\n",
    "\n",
    "# une deuxième subplot\n",
    "plt.subplot(212)\n",
    "# on écrit dedans\n",
    "plt.plot(t2, np.cos(2*np.pi*t2), 'r--')\n",
    "plt.show()"
   ]
  },
  {
   "cell_type": "markdown",
   "metadata": {
    "colab_type": "text",
    "id": "cofOI3-w_GE_"
   },
   "source": [
    "C'est pour pouvoir construire de tels assemblages qu'il y a une fonction `plt.show()`, qui indique que la figure est terminée."
   ]
  },
  {
   "cell_type": "markdown",
   "metadata": {
    "colab_type": "text",
    "id": "F4QgGqW-_GFA"
   },
   "source": [
    "Il faut revenir un peu sur les arguments passés à `subplot`. Lorsqu'on écrit :\n",
    "```Python\n",
    "plt.subplot(211)\n",
    "```\n",
    "ce qui est par ailleurs juste un raccourci pour :\n",
    "```Python\n",
    "plt.subplot(2, 1, 1)\n",
    "```\n",
    "on veut dire qu'on veut créer un quadrillage de 2 lignes de 1 colonne, et que le subplot va occuper le 1er emplacement."
   ]
  },
  {
   "cell_type": "markdown",
   "metadata": {
    "colab_type": "text",
    "id": "4USAsXPJ_GFC"
   },
   "source": [
    "### Plusieurs figures"
   ]
  },
  {
   "cell_type": "markdown",
   "metadata": {
    "colab_type": "text",
    "id": "0yyojbaT_GEt"
   },
   "source": [
    "Intentionnellement dans ce notebook, on ne vas pas utiliser le mode automatique de `matplotlib` dans les notebooks (pour rappel, `plt.ion()`), car on veut justement apprendre à utiliser `matplotlib` dans un contexte normal."
   ]
  },
  {
   "cell_type": "markdown",
   "metadata": {
    "colab_type": "text",
    "id": "8VbUNwlA_GFD"
   },
   "source": [
    "En fait, on peut créer plusieurs figures, et plusieurs *subplots* dans chaque figure. Dans l'exemple qui suit on illustre encore mieux cette notion de *statefulness*. Voici l'exemple du tutorial tel quel :"
   ]
  },
  {
   "cell_type": "code",
   "execution_count": null,
   "metadata": {
    "colab": {
     "base_uri": "https://localhost:8080/",
     "height": 604
    },
    "colab_type": "code",
    "collapsed": false,
    "id": "-OCc28L3_GFE",
    "outputId": "c025f687-0427-45da-e9c5-5387ea4f1abf"
   },
   "outputs": [],
   "source": [
    "plt.figure(1)                # the first figure\n",
    "plt.subplot(211)             # the first subplot in the first figure\n",
    "plt.axis([0, 2, 1, 3])\n",
    "plt.plot([1, 2, 3])\n",
    "plt.subplot(212)             # the second subplot in the first figure\n",
    "plt.axis([0, 2, 4, 6])\n",
    "plt.plot([4, 5, 6])\n",
    "\n",
    "\n",
    "plt.figure(2)                # a second figure\n",
    "plt.axis([0, 2, 4, 6])\n",
    "plt.plot([4, 5, 6])          # creates a subplot(111) by default\n",
    "\n",
    "plt.figure(1)                # figure 1 current;\n",
    "                             # subplot(212) still current\n",
    "plt.subplot(211)             # make subplot(211) in figure1 current\n",
    "plt.title('Easy as 1, 2, 3') # subplot 211 title\n",
    "plt.show()"
   ]
  },
  {
   "cell_type": "code",
   "execution_count": null,
   "metadata": {
    "colab": {
     "base_uri": "https://localhost:8080/",
     "height": 533
    },
    "colab_type": "code",
    "collapsed": false,
    "id": "fcdCrc6__GFI",
    "outputId": "104b6672-d1b0-44f0-b11f-e4e22620ef96"
   },
   "outputs": [],
   "source": [
    "# c'est assez confusant au départ, mais\n",
    "# traditionnellement les subplots sont appelés 'axes'\n",
    "# c'est pourquoi ici on utilise ax1, ax2 et ax3 pour désigner\n",
    "# des subplots\n",
    "\n",
    "# ici je crée une figure et deux subplots,\n",
    "# sur une grille de 2 lignes * 1 colonne\n",
    "fig1, (ax1, ax2) = plt.subplots(2, 1)\n",
    "\n",
    "# au lieu de faire plt.plot, vous pouvez envoyer\n",
    "# la méthode plot à un subplot\n",
    "ax1.plot([1, 2, 3])\n",
    "ax2.plot([4, 5, 6])\n",
    "\n",
    "fig2, ax3 = plt.subplots(1, 1)\n",
    "ax3.plot([4, 5, 6])\n",
    "\n",
    "# pour revenir au premier subplot\n",
    "# il suffit d'utiliser la variable ax1\n",
    "# attention on avait fait avec 'plt.title'\n",
    "# ici c'est la méthode 'set_title'\n",
    "ax1.set_title('Easy as 1, 2, 3')\n",
    "\n",
    "plt.show()"
   ]
  },
  {
   "cell_type": "markdown",
   "metadata": {
    "colab_type": "text",
    "id": "qlSmweFr_GFH"
   },
   "source": [
    "Cette façon de faire est améliorable. D'abord c'est source d'erreurs, il faut se souvenir de ce qui précède, et du coup, si on change un tout petit peu la logique, ça risque de casser tout le reste. En outre selon les environnements, on peut obtenir un vilain avertissement.\n",
    "\n",
    "C'est pourquoi mieux vaut plutôt, pour faire la même chose que ci-dessus, utiliser `plt.subplots` qui vous retourne la figure avec ses *subplots*, que vous pouvez ranger dans des variables Python :"
   ]
  },
  {
   "cell_type": "markdown",
   "metadata": {
    "colab_type": "text",
    "id": "h6W00U3P_GFK"
   },
   "source": [
    "### `plt.hist`"
   ]
  },
  {
   "cell_type": "markdown",
   "metadata": {
    "colab_type": "text",
    "id": "VX-AZLk8_GFL"
   },
   "source": [
    "S'agissant de la dimension 2, voici le dernier exemple que nous tirons du tutoriel `matplotlib`, surtout pour illustrer [`plt.hist`](https://matplotlib.org/api/_as_gen/matplotlib.pyplot.hist.html?highlight=matplotlib%20pyplot%20hist#matplotlib.pyplot.hist), mais qui montre aussi comment ajouter du texte :"
   ]
  },
  {
   "cell_type": "code",
   "execution_count": null,
   "metadata": {
    "colab": {
     "base_uri": "https://localhost:8080/",
     "height": 346
    },
    "colab_type": "code",
    "collapsed": false,
    "id": "VXzBhCrW_GFL",
    "outputId": "14ea08c0-2ef7-4038-977e-f75c108256cf"
   },
   "outputs": [],
   "source": [
    "# pour être reproductible, on fixe la graine\n",
    "# du générateur aléatoire\n",
    "np.random.seed(19680801)\n",
    "\n",
    "mu, sigma = 100, 15\n",
    "x = mu + sigma * np.random.randn(10000)\n",
    "\n",
    "# dessiner un histogramme\n",
    "# on range les valeurs en 20 boites (bins)\n",
    "n, bins, patches = plt.hist(x, 20, normed=1, facecolor='g', alpha=0.75)\n",
    "\n",
    "plt.xlabel('Smarts')\n",
    "plt.ylabel('Probability')\n",
    "plt.title('Histogram of IQ')\n",
    "plt.text(60, .025, r'$\\mu=100,\\ \\sigma=15$')\n",
    "plt.axis([40, 160, 0, 0.03])\n",
    "plt.grid(True)\n",
    "plt.show()"
   ]
  },
  {
   "cell_type": "markdown",
   "metadata": {
    "colab_type": "text",
    "id": "MQXPACcX_GFN"
   },
   "source": [
    "### `plt.scatter`"
   ]
  },
  {
   "cell_type": "markdown",
   "metadata": {
    "colab_type": "text",
    "id": "8-tVxmiS_GFO"
   },
   "source": [
    "Regarder également la fonction [`plt.scatter`](https://matplotlib.org/api/_as_gen/matplotlib.pyplot.scatter.html?highlight=matplotlib%20pyplot%20scatter#matplotlib.pyplot.scatter) qui permet de faire par exemple des choses comme ceci :"
   ]
  },
  {
   "cell_type": "code",
   "execution_count": null,
   "metadata": {
    "colab": {
     "base_uri": "https://localhost:8080/",
     "height": 269
    },
    "colab_type": "code",
    "collapsed": false,
    "id": "1d89z0ts_GFP",
    "outputId": "eea0eb12-3e12-45c1-d806-0b65a0731d5d"
   },
   "outputs": [],
   "source": [
    "# pour être reproductible, on fixe la graine\n",
    "# du générateur aléatoire\n",
    "np.random.seed(19680801)\n",
    "\n",
    "N = 50\n",
    "x = np.random.rand(N)\n",
    "y = np.random.rand(N)\n",
    "colors = np.random.rand(N)\n",
    "area = np.pi * (15 * np.random.rand(N))**2  # 0 to 15 point radii\n",
    "\n",
    "plt.scatter(x, y, s=area, c=colors, alpha=0.5)\n",
    "plt.show()"
   ]
  },
  {
   "cell_type": "markdown",
   "metadata": {
    "colab_type": "text",
    "id": "RTt_Hec2_GFR"
   },
   "source": [
    "### `plt.boxplot`"
   ]
  },
  {
   "cell_type": "markdown",
   "metadata": {
    "colab_type": "text",
    "id": "lnYtODPJ_GFS"
   },
   "source": [
    "Avec [`boxplot`](https://matplotlib.org/api/_as_gen/matplotlib.pyplot.boxplot.html) vous obtenez des boîtes à moustache :"
   ]
  },
  {
   "cell_type": "code",
   "execution_count": null,
   "metadata": {
    "colab": {
     "base_uri": "https://localhost:8080/",
     "height": 215
    },
    "colab_type": "code",
    "collapsed": false,
    "id": "3TVkdGuc_GFT",
    "outputId": "fa226afa-427e-4a9d-b189-00c56fcae1d2"
   },
   "outputs": [],
   "source": [
    "plt.figure(figsize=(6, 3))\n",
    "\n",
    "plt.subplot(121)\n",
    "# on peut passer à boxplot une liste de suites de nombres\n",
    "# chaque suite donne lieu à une boite à moustache\n",
    "# ici 3 suites\n",
    "plt.boxplot([[1, 2, 3, 4, 5, 13], [6, 7, 8, 10, 11, 12], [11, 12 ,13]])\n",
    "plt.ylim(0, 14)\n",
    "\n",
    "plt.subplot(122)\n",
    "# on peut aussi comme toujours lui passer un ndarray numpy\n",
    "# attention c'est lu dans l'autre sens, ici aussi on a 3 suites de nombres\n",
    "plt.boxplot(np.array([[1, 6, 11],\n",
    "                      [2, 7, 12],\n",
    "                      [3, 8, 13],\n",
    "                      [4, 10, 11],\n",
    "                      [5, 11, 12],\n",
    "                      [13, 12, 13]]))\n",
    "plt.show()"
   ]
  }
 ],
 "metadata": {
  "colab": {
   "name": "presentation_matplotlib.ipynb",
   "provenance": [],
   "version": "0.3.2"
  },
  "hide_input": false,
  "kernelspec": {
   "display_name": "Python 3",
   "language": "python",
   "name": "python3"
  },
  "language_info": {
   "codemirror_mode": {
    "name": "ipython",
    "version": 3
   },
   "file_extension": ".py",
   "mimetype": "text/x-python",
   "name": "python",
   "nbconvert_exporter": "python",
   "pygments_lexer": "ipython3",
   "version": "3.6.0"
  }
 },
 "nbformat": 4,
 "nbformat_minor": 1
}
