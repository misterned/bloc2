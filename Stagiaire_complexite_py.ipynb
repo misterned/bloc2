{
 "cells": [
  {
   "cell_type": "markdown",
   "metadata": {
    "colab_type": "text",
    "id": "hrNWtB2pgZv2"
   },
   "source": [
    "# Complexités en temps et en espace."
   ]
  },
  {
   "cell_type": "markdown",
   "metadata": {},
   "source": [
    "# Table des matières\n",
    "**[Chapitre 0 - Introduction](#M0)** \n",
    "- [1. Contexte](#M01)\n",
    "- [2. Problématique](#M02) \n",
    "- [3. Exemple](#M03) \n",
    "\n",
    "**[Chapitre 1 - La complexité](#M1)**  \n",
    "- [1. Première définition](#M11)\n",
    "- [2. Comparons deux algorithmes](#M12) \n",
    "- [3. Évaluation de la complexité algorithmique](#M13) \n",
    "- [4. Seconde définition](#M14) \n",
    " \n",
    "**[Chapitre 2 - Premiers calculs de complexité : algorithmes itératifs](#M2)**.   \n",
    "- [1. Algorithmes sans structures de contrôle](#M21)  \n",
    "- [2. Le cas des structures conditionnelles](#M22)  \n",
    "- [3. Le cas des structures itératives](#M23) \n",
    "- [(Exercice 1) au programme de première NSI : tri par sélection](#M24)\n",
    "- [(Exercice 2) au programme de première NSI : tri par insertion](#M25)\n",
    "\n",
    "**[Chapitre 3 - Cas des algorithmes récursifs](#M3)**  \n",
    "- [1. Récursivités simples](#M31) \n",
    "- [2. Suites arithmético-géométriques](#M32)  \n",
    "- [3. Algorithmes de type \"diviser pour régner\" : exemple du tri fusion](#M33)\n",
    "- [(Exercice 3) Implémentation du tri fusion](#M34)\n",
    "\n",
    "**[Chapitre 4 - Un problème de dichotimie](#M4)**  \n",
    "- [(Exercice 4) Question 1](#M41) \n",
    "- [(Exercice 4) Question 2](#M42) "
   ]
  },
  {
   "cell_type": "markdown",
   "metadata": {},
   "source": [
    "## <font color=#3876C2> Chapitre 0 - Introduction</font> <a name=\"M0\"></a>"
   ]
  },
  {
   "cell_type": "markdown",
   "metadata": {},
   "source": [
    "### <font color=#FEB229> 1. Contexte</font> <a name=\"M01\"></a>"
   ]
  },
  {
   "cell_type": "markdown",
   "metadata": {
    "colab_type": "text",
    "id": "ScIt_q9Ygzqt"
   },
   "source": [
    "un problème à résoudre\n",
    "\n",
    "- un problème = une question + des paramètres (données \"en entrée\")\n",
    "\n",
    "une instance de ce problème qui admet au moins une solution\n",
    "\n",
    "- une instance = un choix des données d'entrée\n",
    "\n",
    "un algorithme qui calcule sa solution\n",
    "\n",
    "- un ou même plusieurs algorithmes"
   ]
  },
  {
   "cell_type": "markdown",
   "metadata": {},
   "source": [
    "### <font color=#FEB229> 2. Problématique</font> <a name=\"M02\"></a>"
   ]
  },
  {
   "cell_type": "markdown",
   "metadata": {
    "colab_type": "text",
    "id": "lvqrh0ECg98V"
   },
   "source": [
    "De combien de temps a besoin l'algorithme pour calculer cette solution ?\n",
    "\n",
    "De combien d'espace-mémoire a besoin l'algorithme pour calculer cette\n",
    "solution ?"
   ]
  },
  {
   "cell_type": "markdown",
   "metadata": {},
   "source": [
    "### <font color=#FEB229> 3. Exemple</font> <a name=\"M03\"></a>"
   ]
  },
  {
   "cell_type": "markdown",
   "metadata": {
    "colab_type": "text",
    "id": "GYBC-dIHh9mv"
   },
   "source": [
    "On veut calculer la somme de *n* entiers"
   ]
  },
  {
   "cell_type": "markdown",
   "metadata": {
    "colab_type": "text",
    "id": "8YjfnZvxiJjD"
   },
   "source": [
    "**Une instance :**\n",
    "un choix de n et des n valeurs du tableau t\n",
    "\n",
    "**Principe d'un algorithme :**\n",
    "je parcours le tableau, \"du début à la fin\", je lis\n",
    "chaque valeur, je l'accumule dans une variable (initialement mise à zéro),\n",
    "je retourne cette variable."
   ]
  },
  {
   "cell_type": "code",
   "execution_count": null,
   "metadata": {
    "colab": {},
    "colab_type": "code",
    "collapsed": true,
    "id": "5vSRe3y8iXP7"
   },
   "outputs": [],
   "source": [
    "def sommer(t, dim_t):\n",
    "    ''' somme itérative de n=dim_t valeurs entières stockées dans une liste t\n",
    "    entrées. t liste d’int de longueur dim_t\n",
    "    retourne. res int'''\n",
    "    res = 0 # j’'accumule dans res\n",
    "    for i in range(dim_t):\n",
    "        res = res + t[i]\n",
    "    return res"
   ]
  },
  {
   "cell_type": "code",
   "execution_count": null,
   "metadata": {
    "colab": {
     "base_uri": "https://localhost:8080/",
     "height": 34
    },
    "colab_type": "code",
    "collapsed": true,
    "id": "mtZjhD3Diols",
    "outputId": "f861d40f-01d7-42ac-b4d6-254721c72f04"
   },
   "outputs": [],
   "source": [
    "print(sommer([2,5,7,9],4))"
   ]
  },
  {
   "cell_type": "markdown",
   "metadata": {
    "colab_type": "text",
    "id": "OmMRaxTN8FF2"
   },
   "source": [
    "**Combien de temps pour calculer la réponse ?**"
   ]
  },
  {
   "cell_type": "code",
   "execution_count": null,
   "metadata": {
    "colab": {
     "base_uri": "https://localhost:8080/",
     "height": 34
    },
    "colab_type": "code",
    "collapsed": true,
    "id": "ZiuTAYmpGfSf",
    "outputId": "5c3f5e1c-1783-4aa8-f042-325792e20293"
   },
   "outputs": [],
   "source": [
    "%timeit sommer([2,5,7,9],4)"
   ]
  },
  {
   "cell_type": "markdown",
   "metadata": {
    "colab_type": "text",
    "id": "dKmtLO4Q8LeA"
   },
   "source": [
    "- ça dépend de n : le nombre de valeurs à sommer\n",
    "- A priori, le temps de calcul est une fonction croissante de n\n",
    "- Oui mais croissante comment ? linéaire ? quadratique ?  logarithmique ?\n",
    "- On parle aussi de *coût* de l'algorithme"
   ]
  },
  {
   "cell_type": "markdown",
   "metadata": {
    "colab_type": "text",
    "id": "z346mcoe8kmn"
   },
   "source": [
    "**Combien d'espace-mémoire pour calculer la réponse ?**\n",
    "- ça dépend aussi de n : il faut déjà réussir à stocker les n valeurs !\n",
    "- Oui mais quel est l'espace mémoire supplémentaire pour résoudre le problème ?\n",
    "- Dépendant ou indépendant de n ? dépendant comment ? \n"
   ]
  },
  {
   "cell_type": "markdown",
   "metadata": {},
   "source": [
    "## <font color=#3876C2> Chapitre 1 - La complexité</font> <a name=\"M1\"></a>"
   ]
  },
  {
   "cell_type": "markdown",
   "metadata": {
    "colab_type": "text",
    "id": "O0P2Zd1qwYvO"
   },
   "source": [
    "### <font color=#FEB229> 1. Première définition</font> <a name=\"M11\"></a>"
   ]
  },
  {
   "cell_type": "markdown",
   "metadata": {
    "colab_type": "text",
    "id": "LEp0elu9welN"
   },
   "source": [
    "Déterminer la complexité (ou le *coût*) d’un algorithme, c’est évaluer les ressources nécessaires à son exécution (essentiellement la quantité de mémoire requise) et le temps de calcul à prévoir. Ces deux notions dépendent de nombreux paramètres matériels qui sortent du domaine de l’algorithmique : nous ne pouvons attribuer une valeur absolue ni à la quantité de mémoire requise ni au temps d’exécution d’un algorithme donné. En revanche, il est souvent possible d’évaluer l’ordre de grandeur de ces deux quantités de manière à identifier l’algorithme le plus efficace au sein d’un ensemble d’algorithmes résolvant le même problème."
   ]
  },
  {
   "cell_type": "markdown",
   "metadata": {
    "colab_type": "text",
    "id": "FMdMBcaMxmpA"
   },
   "source": [
    "### <font color=#FEB229> 2. Comparons deux algorithmes</font> <a name=\"M12\"></a>"
   ]
  },
  {
   "cell_type": "markdown",
   "metadata": {
    "colab_type": "text",
    "id": "nHnLMGa6xuab"
   },
   "source": [
    "La détermination du nombre de diviseurs d’un entier naturel n. Une première solution consiste à essayer si chacun des entiers compris entre 1 et n est un diviseur de n. Ceci conduit à définir la fonction diviseurs1"
   ]
  },
  {
   "cell_type": "code",
   "execution_count": null,
   "metadata": {
    "colab": {},
    "colab_type": "code",
    "collapsed": true,
    "id": "8fFmqRKRx_hi"
   },
   "outputs": [],
   "source": [
    "def diviseurs1(n) :\n",
    "    d = 0\n",
    "    k = 1\n",
    "    while k <= n :\n",
    "        if n % k == 0:\n",
    "            d +=1\n",
    "        k +=1\n",
    "    return d"
   ]
  },
  {
   "cell_type": "code",
   "execution_count": null,
   "metadata": {
    "colab": {
     "base_uri": "https://localhost:8080/",
     "height": 34
    },
    "colab_type": "code",
    "collapsed": true,
    "id": "xHDNzVNLzBLZ",
    "outputId": "47420796-90b6-4b15-f43e-d25cd6da8ef3"
   },
   "outputs": [],
   "source": [
    "print(diviseurs1(85))"
   ]
  },
  {
   "cell_type": "code",
   "execution_count": null,
   "metadata": {
    "colab": {
     "base_uri": "https://localhost:8080/",
     "height": 34
    },
    "colab_type": "code",
    "collapsed": true,
    "id": "LrYyW-7LyvhO",
    "outputId": "feb9ac37-cce3-4d7f-eb61-48d5323b9e07"
   },
   "outputs": [],
   "source": [
    "%timeit diviseurs1(85)"
   ]
  },
  {
   "cell_type": "markdown",
   "metadata": {
    "colab_type": "text",
    "id": "V66QcGgrzaO-"
   },
   "source": [
    "Mais on peut aussi se faire la réflexion suivante :$$ si \\: d  \\in % \n",
    "[\\![  1~;~ p ]\\!]  \\:divise \\: n \\: alors \\: d′= \\frac{n}{d} \\: aussi ; de \\: plus,\\: d \\le \\sqrt{n}\\iff d′\\ge \\sqrt{n}. $$Autrement dit, il suffit de rechercher les diviseurs de n qui sont inférieurs ou égaux à$$\\sqrt{n}$$  pour en connaitre le nombre total : c’est le principe utilisé par la fonction diviseurs2 (on notera le traitement particulier réservé aux carrés parfaits)."
   ]
  },
  {
   "cell_type": "code",
   "execution_count": null,
   "metadata": {
    "colab": {},
    "colab_type": "code",
    "collapsed": true,
    "id": "k3PS2vB_mXKM"
   },
   "outputs": [],
   "source": [
    "def diviseurs2(n):\n",
    "    d = 0\n",
    "    k = 1\n",
    "    while k * k < n:\n",
    "        if n % k == 0:\n",
    "            d += 2\n",
    "        k += 1\n",
    "    if k * k == n:\n",
    "        d += 1\n",
    "    return d"
   ]
  },
  {
   "cell_type": "code",
   "execution_count": null,
   "metadata": {
    "colab": {
     "base_uri": "https://localhost:8080/",
     "height": 34
    },
    "colab_type": "code",
    "collapsed": true,
    "id": "WwU0iyb3mw2e",
    "outputId": "184d1846-f6d8-44fb-bccd-2b7a13b116fb"
   },
   "outputs": [],
   "source": [
    "print(diviseurs2(81))"
   ]
  },
  {
   "cell_type": "code",
   "execution_count": null,
   "metadata": {
    "colab": {
     "base_uri": "https://localhost:8080/",
     "height": 34
    },
    "colab_type": "code",
    "collapsed": true,
    "id": "1hl5ILJ1pSOx",
    "outputId": "d4014382-96a7-4ad0-ec01-9538c2776323"
   },
   "outputs": [],
   "source": [
    "%timeit diviseurs2(85)"
   ]
  },
  {
   "cell_type": "markdown",
   "metadata": {
    "colab_type": "text",
    "id": "aSb1oBZ1W_Sp"
   },
   "source": [
    "**Comment comparer ces deux versions ?** Si on se focalise sur les deux boucles conditionnelles de ces algorithmes\n",
    "on constate que dans les deux cas on effectue deux additions, une division euclidienne et un test. $$ Chacune \\: de\n",
    "\\: ces \\: opérations \\: est \\: effectuée \\: n \\: fois \\: dans \\: le \\: premier \\: cas, \\sqrt{n} \\: fois  \\: dans \\: le \\: second.$$ Nous ne connaissons pas le temps t1 nécessaire à la réalisation de ces différents calculs, mais on peut légitimement penser que le temps\n",
    "total d’execution de diviseurs1 n’est pas éloigné de $$ n*t1 + t2 $$, le temps t2 étant le temps requis par les autres opérations. De même, le temps requis par la fonction diviseurs2 est de l’ordre de $$ \\sqrt{n} * t1' + t2' $$\n",
    "Les temps t2 et t2'  sont négligeables pour de grandes valeurs de n ; de plus les valeurs de t1 et t1' importent peu ;\n",
    "elle dépendent de conditions matérielles qui nous échappent. Nous n’allons retenir que le taux de croissance de chacune de ces deux fonctions : proportionnel à n pour la première (on dira plus loin qu’il s’agit d’un algorithme\n",
    "de coût linéaire), proportionnel à  $$ \\sqrt{n} $$ pour la seconde. Autrement dit :\n",
    "\n",
    "– multiplier n par 100 multiplie le temps d’exécution de diviseurs1 par 100 ;\n",
    "\n",
    "– multiplier n par 100 multiplie le temps d’exécution de diviseurs2 par 10.\n",
    "\n",
    "Ainsi, connaissant le temps d’exécution pour une valeur donnée de n il est possible d’évaluer l’ordre de grandeur du temps d’exécution pour de plus grandes valeurs."
   ]
  },
  {
   "cell_type": "markdown",
   "metadata": {
    "colab_type": "text",
    "id": "A317vXCWdoZE"
   },
   "source": [
    "### <font color=#FEB229> 3. Évaluation de la complexité algorithmique</font> <a name=\"M13\"></a>"
   ]
  },
  {
   "cell_type": "markdown",
   "metadata": {
    "colab_type": "text",
    "id": "iAIZeCsTdtfW"
   },
   "source": [
    "Pour réaliser l’évaluation de la complexité algorithmique, il est nécessaire de préciser un modèle de la technologie employée ; en ce qui nous concerne, il s’agira d’une machine à processeur unique pour laquelle les instructions seront exécutées l’une après l’autre, sans opération simultanées. Il faudra aussi préciser les instructions élémentaires disponibles ainsi que leurs coûts. Ceci est particulièrement important lorsqu’on utilise un langage de programmation tel que Python car ce langage possède de nombreuses instructions de haut niveau qu’il serait irréaliste de considérer comme ayant un coût constant : il existe par exemple une fonction *sort* qui permet de trier un tableau en une instruction, mais il serait illusoire de croire que son temps d’exécution est indépendant de la taille du tableau."
   ]
  },
  {
   "cell_type": "markdown",
   "metadata": {
    "colab_type": "text",
    "id": "kNZHoZQqeIAr"
   },
   "source": [
    "**La première étape** consiste donc à préciser quelles sont les instructions élémentaires, c’est-à-dire celle qui seront considérées comme ayant un coût constant, indépendant de leurs paramètres. Parmi celles-ci figurent en général :\n",
    "\n",
    "– les opérations arithmétiques (addition, soustraction, multiplication, division, modulo, partie entière, . . .)\n",
    "\n",
    "– la comparaisons de données (relation d’égalité, d’infériorité, . . .)\n",
    "\n",
    "– le transferts de données (lecture et écriture dans un emplacement mémoire)\n",
    "\n",
    "– les instructions\n",
    "\n",
    "Mais il y a des exceptions, par exemple la comparaison entre deux chaînes de caractères ne pourra être considérée comme une opération\n",
    "élémentaire, même s’il est possible de la réaliser en une seule instruction Python."
   ]
  },
  {
   "cell_type": "markdown",
   "metadata": {
    "colab_type": "text",
    "id": "J2X6W0XjilGO"
   },
   "source": [
    "Une fois précisé la notion d’opération élémentaire, il convient de définir ce qu’on appelle **la taille de l’entrée**.\n",
    "Cette notion dépend du problème étudié : pour de nombreux problèmes, il peut s’agir du nombre d’éléments constituant les paramètres de l’algorithme (par exemple le nombre d’éléments du tableau dans le cas d’un algorithme de tri) ; dans le cas d’algorithmes de nature arithmétique  il peut s’agir d’un entier passé en paramètre, voire du nombre de bits nécessaire à la représentation de ce dernier. Enfin, il peut être approprié de décrire la taille de l’entrée à l’aide de deux entiers (le nombre de sommets et le nombre d’arêtes dans le cas d’un algorithme portant sur les graphes)."
   ]
  },
  {
   "cell_type": "markdown",
   "metadata": {},
   "source": [
    "Imaginons par exemple que l'on effectue une recherche séquentielle d’un élément dans une liste non triée. Le principe de l'algorithme est simple, on parcourt un par un les éléments jusqu'à trouver, ou pas, celui recherché. Ce parcours peut s’arrêter dès le début si le premier élément est \"le bon\". Mais on peut également être amené à parcourir la liste en entier si l’élément cherché est en dernière position, ou même n'y figure pas. Le nombre d'opération élémentaires effectuées dépend donc non seulement de la taille de la liste, mais également de la répartition de ses valeurs.\n",
    "\n",
    "Cette remarque nous conduit à préciser un peu notre définition de la complexité en temps. En toute rigueur, on devra en effet distinguer trois formes de complexité en temps :\n",
    "\n",
    "* **la complexité dans le meilleur des cas** : c'est la situation la plus favorable, qui correspond par exemple à la recherche d'un élément situé à la première postion d'une liste, ou encore au tri d'une liste déjà triée.\n",
    "\n",
    "* **la complexité dans le pire des cas** : c'est la situation la plus défavorable, qui correspond par exemple à la recherche d'un élément dans une liste alors qu'il n'y figure pas, ou encore au tri par ordre croissant d'une liste triée par ordre décroissant.\n",
    "\n",
    "* **la complexité en moyenne** : on suppose là que les données sont réparties selon une certaine loi de probabilités.\n",
    "\n",
    "On calculera le plus souvent la complexité dans le pire des cas, car elle est la plus pertinente. Il vaut mieux en effet toujours envisager le pire."
   ]
  },
  {
   "cell_type": "markdown",
   "metadata": {
    "colab_type": "text",
    "id": "yoAoeH9tjCkW"
   },
   "source": [
    "Une fois la taille n de l’entrée définie, il reste à évaluer en fonction de celle-ci le nombre f (n) d’opérations élémentaires requises par l’algorithme. Mais même s’il est parfois possible d’en déterminer le nombre exact, on se contentera le plus souvent d’en donner l’ordre de grandeur à l’aide des **notations de Landau**."
   ]
  },
  {
   "cell_type": "markdown",
   "metadata": {
    "colab_type": "text",
    "id": "SMafzk-AkFBp"
   },
   "source": [
    "![Comparaisons asymptotiques](http://misterned.org/images/landau.PNG)\n",
    "\n"
   ]
  },
  {
   "cell_type": "markdown",
   "metadata": {},
   "source": [
    "### <font color=#FEB229> 4. Seconde définition</font> <a name=\"M14\"></a>"
   ]
  },
  {
   "cell_type": "code",
   "execution_count": null,
   "metadata": {
    "collapsed": true
   },
   "outputs": [],
   "source": [
    "from IPython.core.display import HTML\n",
    "HTML(\"\"\"\n",
    "<style>\n",
    "#maTable2 { \n",
    "  width: 100%;\n",
    "  border-collapse: collapse;\n",
    "}\n",
    "#maTable2 th, #maTable2 td {\n",
    "  padding: 3px;\n",
    "  border: 1px solid #fff;\n",
    "  text-align: center;\n",
    "}\n",
    "#maTable2 th {\n",
    "  background: #999690;\n",
    "  color: white;\n",
    "  font-weight: bold;\n",
    "}\n",
    "</style>\n",
    "\"\"\")"
   ]
  },
  {
   "cell_type": "markdown",
   "metadata": {},
   "source": [
    "Les complexités algorithmiques que nous allons calculer vont dorénavant être exprimées comme des grand $\\mathcal{O}$ ou grand $\\Theta$ de fonctions de références. Cela va nous permettre de les classer.\n",
    "\n",
    "Des algorithmes appartenant à une même classe seront alors considérés comme de complexité équivalente. Cela signifiera que l'on considèrera qu'ils ont la même efficacité.\n",
    "\n",
    "Le tableau suivant récapitule les complexités de référence :"
   ]
  },
  {
   "cell_type": "markdown",
   "metadata": {},
   "source": [
    "<link rel=Stylesheet type=\"text/css\" href=style.css>\n",
    "<table id=\"maTable2\">\n",
    "  <thead>\n",
    "    <tr>\n",
    "      <th>$\\mathcal{O}$</th>\n",
    "      <th>Type de complexité</th>\n",
    "    </tr>\n",
    "  </thead>\n",
    "  <tbody>\n",
    "    <tr>\n",
    "      <th>$\\mathcal{O}(1)$</th>\n",
    "      <td>constant</td>\n",
    "    </tr>\n",
    "    <tr>\n",
    "      <th>$\\mathcal{O}(\\log{}n)$</th>\n",
    "      <td>logarithmique</td>\n",
    "    </tr>\n",
    "    <tr>\n",
    "      <th>$\\mathcal{O}(n)$</th>\n",
    "      <td>linéaire</td>\n",
    "    </tr>\n",
    "    <tr>\n",
    "      <th>$\\mathcal{O}(n\\log{}n)$</th>\n",
    "      <td>quasi-linéaire</td>\n",
    "    </tr>\n",
    "    <tr>\n",
    "      <th>$\\mathcal{O}$($n^2$)</th>\n",
    "      <td>quadratique</td>\n",
    "    </tr>\n",
    "    <tr>\n",
    "      <th>$\\mathcal{O}$($n^3$)</th>\n",
    "      <td>cubique</td>\n",
    "    </tr>\n",
    "    <tr>\n",
    "      <th>$\\mathcal{O}$($2^n$)</th>\n",
    "      <td>exponentiel</td>\n",
    "    </tr>\n",
    "    <tr>\n",
    "      <th>$\\mathcal{O}$($n$!)</th>\n",
    "      <td>factoriel</td>\n",
    "    </tr>\n",
    "  </tbody>\n",
    "</table>"
   ]
  },
  {
   "cell_type": "markdown",
   "metadata": {},
   "source": [
    "## <font color=#3876C2> Chapitre 2 - Premiers calculs de complexité : algorithmes itératifs</font> <a name=\"M2\"></a>"
   ]
  },
  {
   "cell_type": "markdown",
   "metadata": {},
   "source": [
    "Avant de commencer, voici notre hypothèse de base : toutes les opérations élémentaires sont à égalité de coût. Cela permet donc d'affirmer que le temps d'exécution est proportionnel au nombre de ces opérations élémentaires.  On dit qu'on adopte le **modèle à coût fixe**."
   ]
  },
  {
   "cell_type": "markdown",
   "metadata": {},
   "source": [
    "### <font color=#FEB229> 1. Algorithmes sans structures de contrôle</font> <a name=\"M21\"></a>"
   ]
  },
  {
   "cell_type": "markdown",
   "metadata": {},
   "source": [
    "une structure de contrôle est une structure itérative ou une structure conditionnelle. Si un algorithme n'en comporte pas, pour évaluer sa complexité il suffit juste de dénombrer le nombre d’opérations T(n) successives qu'il possède."
   ]
  },
  {
   "cell_type": "markdown",
   "metadata": {},
   "source": [
    "La fonction suivante convertit un nombre de secondes en heures, minutes, secondes"
   ]
  },
  {
   "cell_type": "code",
   "execution_count": null,
   "metadata": {
    "collapsed": true
   },
   "outputs": [],
   "source": [
    "def conversion(n):\n",
    "    h = n // 3600\n",
    "    m = (n - 3600*h) // 60\n",
    "    s = n % 60\n",
    "    return h,m,s"
   ]
  },
  {
   "cell_type": "code",
   "execution_count": null,
   "metadata": {
    "collapsed": true
   },
   "outputs": [],
   "source": [
    "conversion(50000)"
   ]
  },
  {
   "cell_type": "markdown",
   "metadata": {},
   "source": [
    "Cet algorithme ne comporte pas de structures de contrôle.\n",
    "\n",
    "On peut dénombrer cinq opérations arithmétiques et trois affectations. On a donc \n",
    "T(n) = 8. La complexité (ou coût) en temps de cet algorithme C(n) = $\\mathcal{O}(1)$ est donc constante (car 8/1 est borné par 7 et 9 par exemple)."
   ]
  },
  {
   "cell_type": "markdown",
   "metadata": {},
   "source": [
    "### <font color=#FEB229> 2. Le cas des structures conditionnelles</font> <a name=\"M22\"></a>"
   ]
  },
  {
   "cell_type": "markdown",
   "metadata": {},
   "source": [
    "En présence d'une structure conditionnelle, il faut commencer par dénombrer le nombre de conditions du test.\n",
    "\n",
    "On décompte ensuite le nombre d’opérations élémentaires de chacune des alternatives, et l'on prend le maximum de ce décompte afin d'obtenir la complexité dans le pire des cas."
   ]
  },
  {
   "cell_type": "markdown",
   "metadata": {},
   "source": [
    "La fonction suivante calcule $(-1)^{n}$ sans effectuer de produit mais en utilisant un test avec une alternative :"
   ]
  },
  {
   "cell_type": "code",
   "execution_count": null,
   "metadata": {
    "collapsed": true
   },
   "outputs": [],
   "source": [
    "def puissanceMoinsUn(n):\n",
    "    if n%2==0:\n",
    "        res = 1\n",
    "    else:\n",
    "        res = -1\n",
    "    return res"
   ]
  },
  {
   "cell_type": "code",
   "execution_count": null,
   "metadata": {
    "collapsed": true
   },
   "outputs": [],
   "source": [
    "puissanceMoinsUn(5)"
   ]
  },
  {
   "cell_type": "markdown",
   "metadata": {},
   "source": [
    "Le test de la conditionnelle comporte une opération arithmétique et une comparaison.\n",
    "\n",
    "Chaque alternative possède une affectation, ainsi le maximum des coûts des différentes alternatives est de 3.\n",
    "\n",
    "On a donc T(n) = 3; La complexité (ou coût) en temps de cet algorithme C(n) =  $\\mathcal{O}(1)$  est donc constante (car $\\frac{3}{1}$ est borné par 2 et 4 par exemple)."
   ]
  },
  {
   "cell_type": "markdown",
   "metadata": {},
   "source": [
    "### <font color=#FEB229> 3. Le cas des structures itératives </font> <a name=\"M23\"></a>"
   ]
  },
  {
   "cell_type": "markdown",
   "metadata": {},
   "source": [
    "Il y a deux possibilités lors du traitement d'une structure itérative.\n",
    "\n",
    "Si chaque itération comporte le même nombre d'opérations élémentaires, pour évaluer la complexité il suffit de multiplier le nombre d'itérations par le nombre d'opérations de chacune d'elles.\n",
    "\n",
    "Si chaque itération ne possède pas le même nombre d'opérations, il faudra alors distinguer ces itérations, c'est-à-dire évaluer la complexité de chacune d'elle puis en faire la somme.\n",
    "\n"
   ]
  },
  {
   "cell_type": "markdown",
   "metadata": {},
   "source": [
    "Cette fonction utilise une structure for pour calculer la somme des n premiers entiers :"
   ]
  },
  {
   "cell_type": "code",
   "execution_count": null,
   "metadata": {
    "collapsed": true
   },
   "outputs": [],
   "source": [
    "def sommeEntiers(n):\n",
    "    somme = 0\n",
    "    for i in range(n+1):\n",
    "        somme += i\n",
    "    return somme"
   ]
  },
  {
   "cell_type": "code",
   "execution_count": null,
   "metadata": {
    "collapsed": true
   },
   "outputs": [],
   "source": [
    "sommeEntiers(8)"
   ]
  },
  {
   "cell_type": "markdown",
   "metadata": {},
   "source": [
    "Ici chaque itération a le même nombre d’opérations, à savoir cinq : deux affections (i et somme), deux additions (i et somme) et une comparaison.\n",
    "\n",
    "On a d'autre part une affectation, lors de l'initialisation de la variable somme.\n",
    "\n",
    "Ainsi \n",
    "T(n) = 5n+1. La complexité (ou coût) en temps de cet algorithme C(n) =  $\\mathcal{O}(n)$  est donc linéaire (car $\\frac{5n+1}{n}$ est borné par 5 et 6 par exemple).\n",
    "\n",
    "Une autre méthode pour calculer cette somme est d'utiliser une formule explicite."
   ]
  },
  {
   "cell_type": "code",
   "execution_count": null,
   "metadata": {
    "collapsed": true
   },
   "outputs": [],
   "source": [
    "def sommeEntiersBis(n):\n",
    "    return n*(n+1)//2"
   ]
  },
  {
   "cell_type": "code",
   "execution_count": null,
   "metadata": {
    "collapsed": true
   },
   "outputs": [],
   "source": [
    "sommeEntiersBis(8)"
   ]
  },
  {
   "cell_type": "markdown",
   "metadata": {},
   "source": [
    "Cet algorithme ne comporte pas de structures de contrôle, il est juste constitué de trois opérations arithmétiques.\n",
    "\n",
    "On a donc T(n)=3 . La complexité (ou coût) en temps de cet algorithme C(n) =  $\\mathcal{O}(1)$  est donc constante (car $\\frac{3}{1}$ est borné par 2 et 4 par exemple)."
   ]
  },
  {
   "cell_type": "markdown",
   "metadata": {},
   "source": [
    "### <font color=#FEB229> 4. Autres exemples</font> <a name=\"M24\"></a>"
   ]
  },
  {
   "cell_type": "markdown",
   "metadata": {},
   "source": [
    "#### Recherche séquentielle d'un élément dans une liste"
   ]
  },
  {
   "cell_type": "markdown",
   "metadata": {},
   "source": [
    "La fonction suivante recherche l'élément x dans la liste l. Si x appartient à l elle retourne l'indice de la première occurence de x dans l, sinon elle retourne -1."
   ]
  },
  {
   "cell_type": "code",
   "execution_count": null,
   "metadata": {
    "collapsed": true
   },
   "outputs": [],
   "source": [
    "def recherche(l,x):\n",
    "    for i in range(len(l)):\n",
    "        if l[i]==x:\n",
    "            return i\n",
    "    return -1"
   ]
  },
  {
   "cell_type": "code",
   "execution_count": null,
   "metadata": {
    "collapsed": true
   },
   "outputs": [],
   "source": [
    "recherche([2,5,7,9],7)"
   ]
  },
  {
   "cell_type": "markdown",
   "metadata": {},
   "source": [
    "Ici la complexité sera fonction de la longueur de la liste, que nous noterons n.\n",
    "\n",
    "Dans le pire des cas l'élément recherché n'appartient pas à la liste, et il a fallu la parcourir en entier pour arriver à cette conclusion, c'est-à-dire effectuer n itérations.\n",
    "\n",
    "De plus, chaque itération comporte le même nombre d'opérations élémentaires, à savoir une affectation, une addition et deux comparaisons.\n",
    "\n",
    "On a donc T(n) = 4n. La complexité (ou coût) en temps de cet algorithme C(n) =  $\\mathcal{O}(n)$  est donc linéaire (car $\\frac{4n}{n}$ est borné par 3 et 5 par exemple)."
   ]
  },
  {
   "cell_type": "markdown",
   "metadata": {},
   "source": [
    "### <font color=#FEB229> (Exercice 1) Au programme de première NSI : tri par sélection</font> <a name=\"M25\"></a>"
   ]
  },
  {
   "cell_type": "markdown",
   "metadata": {},
   "source": [
    "<figure>\n",
    "<img src=\"extrait2.PNG\">\n",
    "<center><figcation>Extrait du programme NSI première</figcation></center>\n",
    "</figure>"
   ]
  },
  {
   "cell_type": "markdown",
   "metadata": {},
   "source": [
    "#### Tri par sélection"
   ]
  },
  {
   "cell_type": "markdown",
   "metadata": {},
   "source": [
    "Le tri par sélection est un algorithme itératif réalisant le tri par ordre croissant d'une liste.\n",
    "\n",
    "Il consiste dans un premier temps à mettre à la première place le plus petit élément de la liste, puis à la seconde place le deuxième plus petit élément, etc.\n",
    "\n",
    "Sa description est la suivante :\n",
    "\n",
    "*  Rechercher dans la liste la plus petite valeur et la permuter avec le premier élément de la liste.\n",
    "\n",
    "*  Rechercher ensuite la plus petite valeur à partir de la deuxième case et la permuter avec le second élément de la liste.\n",
    "\n",
    "*  Et ainsi de suite jusqu’à avoir parcouru toute la liste.\n",
    "\n",
    "En voici son implémentation en Python :"
   ]
  },
  {
   "cell_type": "code",
   "execution_count": null,
   "metadata": {
    "collapsed": true
   },
   "outputs": [],
   "source": [
    "def triSelection(l):\n",
    "    for i in range(len(l)-1):\n",
    "        indMini=i\n",
    "        for j in range(i+1,len(l)):\n",
    "            if l[j]<l[indMini]:\n",
    "                indMini=j\n",
    "        l[i],l[indMini]=l[indMini],l[i]\n",
    "    return l"
   ]
  },
  {
   "cell_type": "code",
   "execution_count": null,
   "metadata": {
    "collapsed": true
   },
   "outputs": [],
   "source": [
    "triSelection([2,1,5,7,9,7])"
   ]
  },
  {
   "cell_type": "markdown",
   "metadata": {},
   "source": [
    "Déterminer la complexité de la fonction triSelection"
   ]
  },
  {
   "cell_type": "markdown",
   "metadata": {},
   "source": []
  },
  {
   "cell_type": "markdown",
   "metadata": {},
   "source": [
    "### <font color=#FEB229> (Exercice 2) Au programme de première NSI : tri par insertion</font> <a name=\"M26\"></a>"
   ]
  },
  {
   "cell_type": "markdown",
   "metadata": {},
   "source": [
    "#### Tri par insertion"
   ]
  },
  {
   "cell_type": "markdown",
   "metadata": {},
   "source": [
    "L’idée est de trier progressivement le tableau : supposant que t [0 : k] est déjà trié, j’insère t [k] à sa place parmi les valeurs de t [0 : k] (en décalant les plus grandes valeurs d’un cran vers la droite si nécessaire) de sorte que t [0 : k + 1] se retrouve trié.\n",
    "Le principe de modularité pourrait nous conduire à écrire une fonction qui détermine la place de t [k], puis une deuxième fonction qui se charge de l’insertion. On obtient un code plus compact en décalant les valeurs au fur et à mesure de la recherche de la place de t [k] (sans oublier de mémoriser la valeur de t [k], qui risque d’être écrasée très vite !).\n",
    "Plus précisément, pour k allant de 1 à n − 1 :"
   ]
  },
  {
   "cell_type": "markdown",
   "metadata": {},
   "source": [
    "-\tje stocke la valeur de t [k] dans une variable temp et j’initialise j à la valeur k\n",
    "-\ttant que j > 0 et temp < t [j − 1] (j’ai une valeur supérieure à temp à gauche de t [j]), je décale t [j − 1] d’un cran vers la droite et je décrémente j\n",
    "-\tà la sortie de la boucle j’installe temp à sa place."
   ]
  },
  {
   "cell_type": "markdown",
   "metadata": {},
   "source": [
    "Ici vous allez effectuer un exercice autoévalué qui va consister à écrire la fonction qui retourne une liste triée par insertion trois cellules plus bas"
   ]
  },
  {
   "cell_type": "code",
   "execution_count": null,
   "metadata": {
    "collapsed": true
   },
   "outputs": [],
   "source": [
    "# chargement de l'exercice\n",
    "from corrections.exo_tri_insertion import exo_tri_insertion"
   ]
  },
  {
   "cell_type": "code",
   "execution_count": null,
   "metadata": {
    "collapsed": true
   },
   "outputs": [],
   "source": [
    "# exemple de sortie\n",
    "exo_tri_insertion.example()"
   ]
  },
  {
   "cell_type": "code",
   "execution_count": null,
   "metadata": {
    "collapsed": true
   },
   "outputs": [],
   "source": [
    "def tri_insertion(list):\n",
    "    '''la liste list est triée à l'aide de la méthode du tri par insertion'''\n",
    "    '''Ecrire votre fonction ici'''\n",
    "    \n",
    "    return list"
   ]
  },
  {
   "cell_type": "code",
   "execution_count": null,
   "metadata": {
    "collapsed": true
   },
   "outputs": [],
   "source": [
    "# pour vérifier votre code\n",
    "exo_tri_insertion.correction(tri_insertion)"
   ]
  },
  {
   "cell_type": "markdown",
   "metadata": {},
   "source": [
    "#### Terminaison"
   ]
  },
  {
   "cell_type": "markdown",
   "metadata": {},
   "source": [
    "\n"
   ]
  },
  {
   "cell_type": "markdown",
   "metadata": {},
   "source": [
    "#### Correction"
   ]
  },
  {
   "cell_type": "markdown",
   "metadata": {},
   "source": [
    "La preuve nécessite 2 invariants de boucle"
   ]
  },
  {
   "cell_type": "markdown",
   "metadata": {},
   "source": [
    "\n"
   ]
  },
  {
   "cell_type": "markdown",
   "metadata": {},
   "source": [
    "\n"
   ]
  },
  {
   "cell_type": "markdown",
   "metadata": {},
   "source": [
    "#### Complexité"
   ]
  },
  {
   "cell_type": "markdown",
   "metadata": {},
   "source": [
    "Le nombre de comparaisons pour un tableau de taille n est :"
   ]
  },
  {
   "cell_type": "markdown",
   "metadata": {},
   "source": [
    "** Au pire** "
   ]
  },
  {
   "cell_type": "markdown",
   "metadata": {},
   "source": [
    "** Au mieux** "
   ]
  },
  {
   "cell_type": "markdown",
   "metadata": {
    "colab_type": "text",
    "id": "WutjLZrOQpAn"
   },
   "source": [
    "## <font color=#3876C2> Chapitre 3 - Cas des algorithmes récursifs</font> <a name=\"M3\"></a>"
   ]
  },
  {
   "cell_type": "markdown",
   "metadata": {
    "collapsed": true
   },
   "source": [
    "Nous allons maintenant nous intéresser aux cas des algorithmes récursifs, qui sont rappelons-le des sous-programmes qui s'appellent eux-mêmes. Les techniques utilisées seront relativement différentes, puisque l'on devra composer avec des suites définies par récurrence plutôt qu'avec des calculs de sommes.\n",
    "\n",
    "Nous commencerons par des récursivités simples (fonction factorielle, problème des tours de Hanoï) puis nous traiterons le cas plus difficile des algorithmes de type diviser pour régner."
   ]
  },
  {
   "cell_type": "markdown",
   "metadata": {},
   "source": [
    "### <font color=#FEB229> 1. Récursivités simples  </font> <a name=\"M31\"></a>"
   ]
  },
  {
   "cell_type": "markdown",
   "metadata": {},
   "source": [
    "Dans un algorithme itératif, le décompte du nombre d'opérations élémentaires se fait en additionnant le nombre d'opérations de chaque itération. C'est pourquoi dans le chapitre précédent nous avons souvent utilisé des calculs de sommes pour arriver à nos fins.\n",
    "\n",
    "La complexité d’un algorithme récursif traitant des données d'une certaine taille va quand à elle naturellement dépendre de la complexité du même algorithme avec des données de taille inférieure. Cette complexité va donc être une suite définie par récurrence."
   ]
  },
  {
   "cell_type": "markdown",
   "metadata": {},
   "source": [
    " ### <font color=#FEB229> 2. Suites arithmético-géométriques  </font> <a name=\"M32\"></a>"
   ]
  },
  {
   "cell_type": "markdown",
   "metadata": {},
   "source": [
    "#### Définition"
   ]
  },
  {
   "cell_type": "markdown",
   "metadata": {},
   "source": [
    "$$ Une \\:suite \\:réelle \\:(u_n)_{n \\in \\mathbb{N}}  \\:est \\:dite \\:arithmético-géométrique \\:s'il \\:existe \\:deux \\:réels \\:a \\:et \\:b \\:tels \\:que \\: \n",
    "\\forall n \\: \\in \\mathbb{N^*},\\: u_n \\:=\\: au_{n-1} \\: + \\:b$$"
   ]
  },
  {
   "cell_type": "markdown",
   "metadata": {},
   "source": [
    "#### Propriété"
   ]
  },
  {
   "cell_type": "markdown",
   "metadata": {},
   "source": [
    "$$ Soit \\:(u_n)_{n \\in \\mathbb{N}}  \\:une \\:suite \\:arithmético-géométrique \\\n",
    "\\:associée \\:aux \\:réels \\:a \\:et \\:b.$$\n",
    "$$\\:On \\:suppose \\:que \\: a, \\:b \\:et \\:u_{0} \\:sont \\:positifs.$$\n",
    "$$Si \\:a \\:= \\:1, \\:u_n \\:= \\:\\mathcal{O}(n).$$\n",
    "$$Si \\:a \\:> \\:1, \\:u_n \\:= \\:\\mathcal{O}(a^n).$$"
   ]
  },
  {
   "cell_type": "markdown",
   "metadata": {},
   "source": [
    "#### Exemple 1 : factorielle"
   ]
  },
  {
   "cell_type": "code",
   "execution_count": null,
   "metadata": {
    "collapsed": true
   },
   "outputs": [],
   "source": [
    "def factorielleRecursive(n):\n",
    "    if n == 0:\n",
    "        return 1\n",
    "    else:\n",
    "        return n*factorielleRecursive(n-1)"
   ]
  },
  {
   "cell_type": "markdown",
   "metadata": {},
   "source": [
    "Cette fonction n'est composée que d'une structure conditionelle.\n",
    "\n",
    "Si n > 0 , une opération élémentaire (une comparaison) est effectuée lors du test, et une autre (un produit) lors de l'appel récursif. On a donc dans ce cas T(n) = T(n−1) + 2.\n",
    "Si n = 0, seule la comparaison a lieu donc T(0) = 1.\n",
    "\n",
    "La complexité T est donc une suite arithmético-géométrique associée aux constantes a = 1 et b  =2.\n",
    "\n",
    "D'après les résultats précédents, on a alors T(n)=1+2n et surtout T(n) = $\\mathcal{O}(n)$. \n",
    "Cet algorithme est donc de complexité linéaire."
   ]
  },
  {
   "cell_type": "markdown",
   "metadata": {},
   "source": [
    "\n",
    "A noter que l'algorithme itératif calculant cette factorielle a la même complexité."
   ]
  },
  {
   "cell_type": "code",
   "execution_count": null,
   "metadata": {
    "collapsed": true
   },
   "outputs": [],
   "source": [
    "def factorielleIterative(n):\n",
    "    resultat = 1\n",
    "    for i in range(2,n+1):\n",
    "        resultat *= i\n",
    "    return resultat"
   ]
  },
  {
   "cell_type": "markdown",
   "metadata": {},
   "source": [
    "On a une structure for qui réalise n − 1 itérations, chacune comportant le même nombre fixe d'opérations élémentaires. C'est pourquoi là aussi T(n)= $\\mathcal{O}(n)$."
   ]
  },
  {
   "cell_type": "markdown",
   "metadata": {},
   "source": [
    "#### Exemple 2 : Hanoï"
   ]
  },
  {
   "cell_type": "code",
   "execution_count": null,
   "metadata": {
    "collapsed": true
   },
   "outputs": [],
   "source": [
    "def hanoi(de,vers,via,n):\n",
    "    if n==1:\n",
    "        print(de,\" vers \",vers)\n",
    "    else:\n",
    "        hanoi(de,via,vers,n-1)\n",
    "        print(de,\" vers \",vers)\n",
    "        hanoi(via,vers,de,n-1)\n",
    "\n",
    "\n",
    "hanoi(\"1\",\"3\",\"2\",3)"
   ]
  },
  {
   "cell_type": "markdown",
   "metadata": {},
   "source": [
    "Venons-en maintenant au calcul de la complexité de cette procédure qui n'est composée que d'une structure conditionnelle.\n",
    "\n",
    "Si n > 1, une opération élémentaire (une comparaison) est effectuée lors du test, une autre lors de l'affichage, et on a deux appels récursifs. On a ainsi T(n) = 2T(n−1) + 2.\n",
    "\n",
    "Si n = 1, seule la comparaison a lieu donc T(1) = 1.\n",
    "\n",
    "La complexité T est donc une suite arithmético-géométrique associée aux constantes a = 2 et b = 2.\n",
    "\n",
    "D’après le résultat précédent, on a alors T(n) = $\\mathcal{O}(2^n)$. \n",
    "Cet algorithme est donc de complexité exponentielle."
   ]
  },
  {
   "cell_type": "markdown",
   "metadata": {},
   "source": [
    "### <font color=#FEB229> 3. Algorithmes de type \"diviser pour régner\" : exemple du tri fusion  </font> <a name=\"M33\"></a>"
   ]
  },
  {
   "cell_type": "markdown",
   "metadata": {},
   "source": [
    "Le tri fusion consiste à trier récursivement les deux moitiés de la liste, puis à fusionner ces deux sous-listes triées en une seule. La condition d’arrêt à la récursivité sera l’obtention d'une liste à un seul élément, car une telle liste est évidemment déjà triée."
   ]
  },
  {
   "cell_type": "markdown",
   "metadata": {},
   "source": [
    "Voici donc les trois étapes (diviser, régner et combiner) de cet algorithme :\n",
    "\n",
    "- Diviser la liste en deux sous-listes de même taille (à un élément près) en la \"coupant\" par la moitié.\n",
    "\n",
    "- Trier récursivement chacune de ces deux sous-listes. Arrêter la récursion lorsque les listes n'ont plus qu'un seul élément.\n",
    "\n",
    "- Fusionner les deux sous-listes triées en une seule."
   ]
  },
  {
   "cell_type": "markdown",
   "metadata": {},
   "source": [
    "On considère la liste suivante de sept entiers :"
   ]
  },
  {
   "cell_type": "markdown",
   "metadata": {},
   "source": [
    "<figure>\n",
    "<img src=\"Fusion1.png\">\n",
    "</figure>"
   ]
  },
  {
   "cell_type": "markdown",
   "metadata": {},
   "source": [
    "On la scinde en deux sous-listes en la coupant par la moitié :"
   ]
  },
  {
   "cell_type": "markdown",
   "metadata": {},
   "source": [
    "<figure>\n",
    "<img src=\"Fusion2.png\">\n",
    "</figure>"
   ]
  },
  {
   "cell_type": "markdown",
   "metadata": {},
   "source": [
    "Sous-listes que l’on scinde à leur tour :"
   ]
  },
  {
   "cell_type": "markdown",
   "metadata": {},
   "source": [
    "<figure>\n",
    "<img src=\"Fusion3.png\">\n",
    "</figure>"
   ]
  },
  {
   "cell_type": "markdown",
   "metadata": {},
   "source": [
    "Sous-listes que l’on scinde à leur tour :"
   ]
  },
  {
   "cell_type": "markdown",
   "metadata": {},
   "source": [
    "<figure>\n",
    "<img src=\"Fusion4.png\">\n",
    "</figure>"
   ]
  },
  {
   "cell_type": "markdown",
   "metadata": {},
   "source": [
    "Ces sous-listes sont triées car elles n’ont qu’un élément. On va maintenant les fusionner deux par deux en de nouvelles sous-listes triées :"
   ]
  },
  {
   "cell_type": "markdown",
   "metadata": {},
   "source": [
    "<figure>\n",
    "<img src=\"Fusion5.png\">\n",
    "</figure>"
   ]
  },
  {
   "cell_type": "markdown",
   "metadata": {},
   "source": [
    "De nouveau une étape de fusionnnement :"
   ]
  },
  {
   "cell_type": "markdown",
   "metadata": {
    "collapsed": true
   },
   "source": [
    "<figure>\n",
    "<img src=\"Fusion6.png\">\n",
    "</figure>"
   ]
  },
  {
   "cell_type": "markdown",
   "metadata": {},
   "source": [
    "Une dernière fusion :"
   ]
  },
  {
   "cell_type": "markdown",
   "metadata": {},
   "source": [
    "<figure>\n",
    "<img src=\"Fusion6.png\">\n",
    "</figure>"
   ]
  },
  {
   "cell_type": "markdown",
   "metadata": {},
   "source": [
    "On a fusionné toutes les sous-listes obtenues lors des appels récursifs, le tri est terminé :"
   ]
  },
  {
   "cell_type": "markdown",
   "metadata": {},
   "source": [
    "<figure>\n",
    "<img src=\"Fusion7.png\">\n",
    "<center><figcation>Déroulement du tri fusion sur un exemple</figcation></center>\n",
    "</figure>"
   ]
  },
  {
   "cell_type": "markdown",
   "metadata": {},
   "source": [
    "**Théorème**"
   ]
  },
  {
   "cell_type": "markdown",
   "metadata": {},
   "source": [
    "La complexité du tri fusion est T(n) = $\\mathcal{O}(nlog_2(n))$.\n",
    "\n",
    "Il s'agit de la meilleure complexité que puisse avoir un algorithme de tri."
   ]
  },
  {
   "cell_type": "markdown",
   "metadata": {},
   "source": [
    "**Démonstration**"
   ]
  },
  {
   "cell_type": "markdown",
   "metadata": {},
   "source": [
    "<figure>\n",
    "<img src=\"dem.PNG\">\n",
    "</figure>"
   ]
  },
  {
   "cell_type": "markdown",
   "metadata": {},
   "source": [
    "### <font color=#FEB229> (Exercice 3) Implémentation du tri fusion  </font> <a name=\"M34\"></a>"
   ]
  },
  {
   "cell_type": "markdown",
   "metadata": {},
   "source": [
    "A vous d'en déterminer son implémentation en Python :"
   ]
  },
  {
   "cell_type": "code",
   "execution_count": null,
   "metadata": {
    "collapsed": true
   },
   "outputs": [],
   "source": [
    "\n",
    "      "
   ]
  },
  {
   "cell_type": "markdown",
   "metadata": {},
   "source": [
    "**Ressources utiles pour terminaison, correction et complexité des principaux algorithmes de tri**"
   ]
  },
  {
   "cell_type": "markdown",
   "metadata": {},
   "source": [
    "http://mathieu.gourcy.free.fr/cariboost_files/coursTrisIVP.pdf\n",
    "http://michel.stainer.pagesperso-orange.fr/PSIx/Informatique/Cours/Ch2-Tris.pdf"
   ]
  },
  {
   "cell_type": "markdown",
   "metadata": {},
   "source": [
    "## <font color=#3876C2> Chapitre 4 - Un problème de dichotimie</font> <a name=\"M4\"></a>"
   ]
  },
  {
   "cell_type": "markdown",
   "metadata": {},
   "source": [
    "### <font color=#FEB229> (Exercice 4) Question 1</font> <a name=\"M41\"></a>"
   ]
  },
  {
   "cell_type": "markdown",
   "metadata": {},
   "source": [
    "En procédant par dichotomie, écrire en Python une fonction carre_parfait(n) prenant en argument un entier\n",
    "n et retournant True si n est un carré parfait (donc s’il existe un entier k tel que $k^2$ = n) et False sinon.\n",
    "L’utilisation de la fonction racine (sqrt) est ici interdite et la méthode de dichotomie est imposée."
   ]
  },
  {
   "cell_type": "markdown",
   "metadata": {},
   "source": [
    "**Correction**"
   ]
  },
  {
   "cell_type": "code",
   "execution_count": null,
   "metadata": {
    "collapsed": true
   },
   "outputs": [],
   "source": [
    "def carre_parfait(n):\n",
    "    '''Ecrire votre fonction ici'''"
   ]
  },
  {
   "cell_type": "code",
   "execution_count": null,
   "metadata": {
    "collapsed": true
   },
   "outputs": [],
   "source": [
    "print(carre_parfait(48))\n",
    "print(carre_parfait(49))"
   ]
  },
  {
   "cell_type": "markdown",
   "metadata": {},
   "source": [
    "### <font color=#FEB229> (Exercice 4) Question 2</font> <a name=\"M42\"></a>"
   ]
  },
  {
   "cell_type": "markdown",
   "metadata": {},
   "source": [
    "Soit $ n \\: \\in \\mathbb{N^*}$. Écrire en Python une fonction pythagicien(n) retournant une liste constituée de tous les triplets\n",
    "pythagoriciens (a, b, c) avec c $\\le$ 1000, c’est-à-dire tous les triplets d’entiers strictement positifs (a, b, c) tels que\n",
    "a² + b² = c². Déterminer la complexité de l'algorithme obtenu."
   ]
  },
  {
   "cell_type": "markdown",
   "metadata": {},
   "source": [
    "**Correction**"
   ]
  },
  {
   "cell_type": "markdown",
   "metadata": {},
   "source": [
    "On modifie très légèrement l’algorithme précédant de sorte à ce qu’il retourne également la valeur de la racine,\n",
    "lorsque n est un carré parfait. Il ressort (False,0) si ce n’est pas un carré parfait"
   ]
  },
  {
   "cell_type": "code",
   "execution_count": null,
   "metadata": {
    "collapsed": true
   },
   "outputs": [],
   "source": [
    "def carre_parfait_bis(n):\n",
    "    '''Ecrire votre fonction ici'''"
   ]
  },
  {
   "cell_type": "markdown",
   "metadata": {},
   "source": [
    "On peut alors trouver les triplets pythagoriciens en testant si c² −b² est un carré parfait, pour toutes les valeurs\n",
    "possibles du couple (c, b), et si oui, en ajoutant le triplet (a, b, c) à l’ensemble des solutions."
   ]
  },
  {
   "cell_type": "code",
   "execution_count": null,
   "metadata": {
    "collapsed": true
   },
   "outputs": [],
   "source": [
    "def pythagoricien(n):\n",
    "    '''Ecrire votre fonction ici'''\n",
    "    return pyth"
   ]
  },
  {
   "cell_type": "code",
   "execution_count": null,
   "metadata": {
    "collapsed": true
   },
   "outputs": [],
   "source": [
    "pythagoricien(500)"
   ]
  },
  {
   "cell_type": "markdown",
   "metadata": {},
   "source": [
    "L’algorithme obtenu est en $\\mathcal{O}(n²)$"
   ]
  }
 ],
 "metadata": {
  "colab": {
   "name": "presentation_complexite.py",
   "provenance": [],
   "version": "0.3.2"
  },
  "hide_input": false,
  "kernelspec": {
   "display_name": "Python 3",
   "language": "python",
   "name": "python3"
  },
  "language_info": {
   "codemirror_mode": {
    "name": "ipython",
    "version": 3
   },
   "file_extension": ".py",
   "mimetype": "text/x-python",
   "name": "python",
   "nbconvert_exporter": "python",
   "pygments_lexer": "ipython3",
   "version": "3.6.0"
  }
 },
 "nbformat": 4,
 "nbformat_minor": 1
}
