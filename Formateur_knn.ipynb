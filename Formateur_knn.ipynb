{
 "cells": [
  {
   "cell_type": "markdown",
   "metadata": {
    "colab_type": "text",
    "id": "qbnORbi9JFa9"
   },
   "source": [
    "# Algorithme des plus proches voisins"
   ]
  },
  {
   "cell_type": "markdown",
   "metadata": {},
   "source": [
    "# Table des matières\n",
    "**[Chapitre 0 - Introduction](#M0)**  \n",
    "\n",
    "**[Chapitre 1 - Le module Pandas](#M1)**  \n",
    " \n",
    "**[Chapitre 2. Déterminer le plus proche voisin d'un point](#M2)**.   \n",
    "\n",
    "**[Chapitre 3 - Le module Scikit-learn](#M3)**  \n",
    "\n",
    "**[Exercice 1](#M4)**\n"
   ]
  },
  {
   "cell_type": "markdown",
   "metadata": {},
   "source": [
    "## <font color=#3876C2> Chapitre 0 - Introduction</font> <a name=\"M0\"></a>"
   ]
  },
  {
   "cell_type": "markdown",
   "metadata": {
    "colab_type": "text",
    "id": "CaRPNEGuJK2E"
   },
   "source": [
    "Nous allons travailler sur un algorithme d'apprentissage automatique, souvent appelé, même en français, algorithme de machine learning. L'idée est d'utiliser un grand nombre de données afin \"d'apprendre à la machine\" à résoudre un certain type de problème (nous verrons un exemple un peu plus loin)."
   ]
  },
  {
   "cell_type": "markdown",
   "metadata": {
    "colab_type": "text",
    "id": "e_0KNWdeKAps"
   },
   "source": [
    "Cette idée d'apprentissage automatique ne date pas d'hier, puisque le terme de machine learning a été utilisé pour la première fois par l'informaticien américain Arthur Samuel en 1959. Pourquoi le machine learning est tant \"à la mode\" depuis quelques années ? Simplement parce que le nerf de la guerre dans les algorithmes de machine learning est la qualité et la quantité des données (les données qui permettront à la machine d'apprendre à résoudre un problème), or, avec le développement d'internet, il est relativement simple de trouver des données sur n'importe quel sujet (on parle de \"big data\"). "
   ]
  },
  {
   "cell_type": "markdown",
   "metadata": {
    "colab_type": "text",
    "id": "_35A4b8UKQ7Q"
   },
   "source": [
    "Nous allons étudier un algorithme d'apprentissage assez simple à appréhender : l'algorithme des \"k plus proches voisins\" (en anglais \"k nearest neighbors\" : knn)"
   ]
  },
  {
   "cell_type": "markdown",
   "metadata": {
    "colab_type": "text",
    "id": "k-NYQnV9KWHV"
   },
   "source": [
    "Nous allons utiliser un jeu de données relativement connu dans le monde du machine learning : le jeu de données \"iris\". En 1936, Edgar Anderson a collecté des données sur 3 espèces d'iris : \"iris setosa\", \"iris virginica\" et \"iris versicolor\""
   ]
  },
  {
   "cell_type": "markdown",
   "metadata": {
    "colab_type": "text",
    "id": "eutkFCJsKi5T"
   },
   "source": [
    "Pour chaque iris étudié, Anderson a mesuré (en cm) :\n",
    "\n",
    "*   la longueur des sépales\n",
    "*   la largeur des pétales\n",
    "*   la longueur des pétales\n",
    "\n",
    "Par souci de simplification, nous nous intéresserons uniquement à la largeur et à la longueur des pétales.\n",
    "\n",
    "Pour chaque iris mesuré, Anderson a aussi noté l'espèce (\"iris setosa\", \"iris virginica\" ou \"iris versicolor\")"
   ]
  },
  {
   "cell_type": "markdown",
   "metadata": {
    "colab_type": "text",
    "id": "WQZJSyw9KbsG"
   },
   "source": [
    "Vous trouverez 50 de ces mesures dans le fichier iris.csv"
   ]
  },
  {
   "cell_type": "markdown",
   "metadata": {
    "colab_type": "text",
    "id": "YLRomMzBLDZT"
   },
   "source": [
    "Vous devez savoir que ce jeu de données a, aujourd'hui, un intérêt purement pédagogique. En effet, il est exclusivement utilisé par des personnes désirant s'initier aux algorithmes de machine learning."
   ]
  },
  {
   "cell_type": "markdown",
   "metadata": {
    "colab_type": "text",
    "id": "9Fpw-mcwLMiQ"
   },
   "source": [
    "Avant d'entrer dans le vif du sujet (algorithme knn), nous allons chercher à obtenir une représentation graphique des données contenues dans le fichier iris.csv"
   ]
  },
  {
   "cell_type": "markdown",
   "metadata": {
    "colab_type": "text",
    "id": "E0Btw2mKLS2Z"
   },
   "source": [
    "## <font color=#3876C2> Chapitre 1 - Le module Pandas</font> <a name=\"M1\"></a>"
   ]
  },
  {
   "cell_type": "markdown",
   "metadata": {
    "colab_type": "text",
    "id": "op9FUWvsLc8Q"
   },
   "source": [
    "Après avoir placé le fichier iris.csv dans le même répertoire que votre fichier Python, étudiez et testez le code suivant :"
   ]
  },
  {
   "cell_type": "markdown",
   "metadata": {
    "colab_type": "text",
    "id": "vc6MzuyKr9Iu"
   },
   "source": [
    "x correspond à la longueur des pétales, y correspond à la largeur des pétales et lab correspond à l'espèce d'iris (0,1 ou 2)"
   ]
  },
  {
   "cell_type": "code",
   "execution_count": null,
   "metadata": {
    "colab": {
     "base_uri": "https://localhost:8080/",
     "height": 269
    },
    "colab_type": "code",
    "id": "hSiiav6NLiBf",
    "outputId": "d0fcb402-9090-43e0-c537-0f7c343a05ef"
   },
   "outputs": [],
   "source": [
    "import pandas\n",
    "import matplotlib.pyplot as plt\n",
    "iris=pandas.read_csv(\"iris.csv\")\n",
    "x=iris.loc[:,\"petal_length\"]\n",
    "y=iris.loc[:,\"petal_width\"]\n",
    "lab=iris.loc[:,\"species\"]\n",
    "plt.scatter(x[lab == 0], y[lab == 0], color='g', label='setosa')\n",
    "plt.scatter(x[lab == 1], y[lab == 1], color='r', label='virginica')\n",
    "plt.scatter(x[lab == 2], y[lab == 2], color='b', label='versicolor')\n",
    "plt.legend()\n",
    "plt.show()"
   ]
  },
  {
   "cell_type": "markdown",
   "metadata": {
    "colab_type": "text",
    "id": "235ZrYBMsDqW"
   },
   "source": [
    "Nous utilisons ensuite la bibliothèque matplotlib qui permet de tracer des graphiques très facilement. \"plt.scatter\" permet de tracer des points, le \"x[lab == 0]\" permet de considérer uniquement l'espèce \"iris setosa\" (lab==0). Le premier \"plt.scatter\" permet de tracer les points correspondant à l'espèce \"iris setosa\", ces points seront vert (color='g'), le deuxième \"plt.scatter\" permet de tracer les points correspondant à l'espèce \"iris virginica\", ces points seront rouge (color='r'), enfin le troisième \"plt.scatter\" permet de tracer les points correspondant à l'espèce \"iris versicolor\", ces points seront bleu (color='b'). Nous aurons en abscisse la longueur du pétale et en ordonnée la largeur du pétale."
   ]
  },
  {
   "cell_type": "markdown",
   "metadata": {
    "colab_type": "text",
    "id": "jwZlPinJsWND"
   },
   "source": [
    "Nous obtenons des \"nuages\" de points, on remarque ces points sont regroupés par espèces d'iris (sauf pour \"iris virginica\" et \"iris versicolor\", les points ont un peu tendance à se mélanger)."
   ]
  },
  {
   "cell_type": "markdown",
   "metadata": {
    "colab_type": "text",
    "id": "-rDnYcuQsjIe"
   },
   "source": [
    "Imaginez maintenant qu'au cours d'une promenade vous trouviez un iris, n'étant pas un spécialiste, il ne vous est pas vraiment possible de déterminer l'espèce. En revanche, vous êtes capables de mesurer la longueur et la largeur des pétales de cet iris. Partons du principe qu'un pétale fasse 0,5 cm de large et 2 cm de long. Plaçons cette nouvelle donnée sur notre graphique (il nous suffit d'ajouter la ligne \"plt.scatter(2.0, 0.5, color='k')\", le nouveau point va apparaitre en noir (color='k')) :"
   ]
  },
  {
   "cell_type": "code",
   "execution_count": null,
   "metadata": {
    "colab": {
     "base_uri": "https://localhost:8080/",
     "height": 269
    },
    "colab_type": "code",
    "id": "stWD4TU3s1j_",
    "outputId": "427529a8-4032-48b9-f696-f095ad40a5b7"
   },
   "outputs": [],
   "source": [
    "plt.scatter(x[lab == 0], y[lab == 0], color='g', label='setosa')\n",
    "plt.scatter(x[lab == 1], y[lab == 1], color='r', label='virginica')\n",
    "plt.scatter(x[lab == 2], y[lab == 2], color='b', label='versicolor')\n",
    "plt.legend()\n",
    "plt.scatter(2.0, 0.5, color='k')\n",
    "plt.show()"
   ]
  },
  {
   "cell_type": "markdown",
   "metadata": {
    "colab_type": "text",
    "id": "8pDO0nu9tOlL"
   },
   "source": [
    "Le résultat est sans appel : il y a de fortes chances que votre iris soit de l'espèce \"iris setosa\"."
   ]
  },
  {
   "cell_type": "markdown",
   "metadata": {
    "colab_type": "text",
    "id": "r8iDGfwqtSS_"
   },
   "source": [
    "Dans ce genre de cas, il peut être intéressant d'utiliser l'algorithme des \"k plus proches voisins\", en quoi consiste cet algorithme :\n",
    "\n",
    "*   on calcule la distance entre notre point (largeur du pétale = 0,75 cm ; longueur du pétale = 2,5 cm) et chaque point issu du jeu de données \"iris\" (à chaque fois c'est un calcul de distance entre 2 points tout ce qu'il y a de plus classique)\n",
    "*   on sélectionne uniquement les k distances les plus petites (les k plus proches voisins)\n",
    "parmi les k plus proches voisins, on détermine quelle est l'espèce majoritaire. \n",
    "*   On associe à notre \"iris mystère\" cette \"espèce majoritaire parmi les k plus proches voisins\"\n",
    "\n",
    "Prenons k = 3"
   ]
  },
  {
   "cell_type": "markdown",
   "metadata": {
    "colab_type": "text",
    "id": "jAAZ4kql298F"
   },
   "source": [
    "## <font color=#3876C2> Chapitre 2 - Déterminer le plus proche voisin d'un point</font> <a name=\"M2\"></a>"
   ]
  },
  {
   "cell_type": "markdown",
   "metadata": {
    "colab_type": "text",
    "id": "0zFGoR7j3B-Z"
   },
   "source": [
    "Avant toute chose, il nous faut définir une fonction qui mesure la distance entre deux données."
   ]
  },
  {
   "cell_type": "code",
   "execution_count": null,
   "metadata": {
    "colab": {},
    "colab_type": "code",
    "collapsed": true,
    "id": "zaimq9YF4S56"
   },
   "outputs": [],
   "source": [
    "import math"
   ]
  },
  {
   "cell_type": "code",
   "execution_count": null,
   "metadata": {
    "colab": {},
    "colab_type": "code",
    "collapsed": true,
    "id": "kdue-NIt3RkX"
   },
   "outputs": [],
   "source": [
    "def distance (a, b):\n",
    "    if (len (a) != len (b)):\n",
    "        return (-1)\n",
    "    somme = 0\n",
    "    for i in range (len (a)):\n",
    "        somme += (a [i] - b [i]) * (a [i] - b [i])\n",
    "    return (math.sqrt (somme))"
   ]
  },
  {
   "cell_type": "code",
   "execution_count": null,
   "metadata": {
    "colab": {
     "base_uri": "https://localhost:8080/",
     "height": 34
    },
    "colab_type": "code",
    "id": "EUea8RSk36Y_",
    "outputId": "e75a31f6-9035-4a8a-d890-006bd8801c4e"
   },
   "outputs": [],
   "source": [
    "distance((x[0],y[0]),(x[1],y[1]))"
   ]
  },
  {
   "cell_type": "code",
   "execution_count": null,
   "metadata": {
    "colab": {
     "base_uri": "https://localhost:8080/",
     "height": 34
    },
    "colab_type": "code",
    "id": "LJ4WBQdy4qhk",
    "outputId": "8060be29-66b7-48f5-a37e-1adcde9a4786"
   },
   "outputs": [],
   "source": [
    "distance((x[0],y[0]),(x[2],y[2]))"
   ]
  },
  {
   "cell_type": "markdown",
   "metadata": {
    "colab_type": "text",
    "id": "KiqrlwN149qt"
   },
   "source": [
    "fonction lePlusProcheVoisin qui prend en paramètre une donnée (une liste de 2 nombres, pas forcément un élément de iris) et renvoie l'indice dans iris du plus proche voisin (situé à une distance non nulle). \n",
    "Abandonnons Pandas momentanément et créons une liste dataset."
   ]
  },
  {
   "cell_type": "code",
   "execution_count": null,
   "metadata": {
    "colab": {},
    "colab_type": "code",
    "collapsed": true,
    "id": "eYaYcNCY8U8o"
   },
   "outputs": [],
   "source": [
    "import csv\n",
    "csvfile = open (\"iris.csv\", \"r\")\n",
    "lines = csv.reader(csvfile)\n",
    "dataset = list (lines)"
   ]
  },
  {
   "cell_type": "code",
   "execution_count": null,
   "metadata": {
    "colab": {
     "base_uri": "https://localhost:8080/",
     "height": 2584
    },
    "colab_type": "code",
    "id": "vxsq2zbK8raR",
    "outputId": "a707b6dc-ceca-4d55-a400-7099525ea14f"
   },
   "outputs": [],
   "source": [
    "dataset"
   ]
  },
  {
   "cell_type": "code",
   "execution_count": null,
   "metadata": {
    "colab": {},
    "colab_type": "code",
    "collapsed": true,
    "id": "HQUPIRz485jz"
   },
   "outputs": [],
   "source": [
    "# On convertit en réel\n",
    "for x in range(1,len(dataset)):\n",
    "    for y in range (2):\n",
    "        dataset[x][y] = float(dataset[x][y])"
   ]
  },
  {
   "cell_type": "code",
   "execution_count": null,
   "metadata": {
    "colab": {
     "base_uri": "https://localhost:8080/",
     "height": 34
    },
    "colab_type": "code",
    "id": "QNj2Gmni9Pmu",
    "outputId": "e965ef0d-d9b1-47f7-9406-2dda37ede059"
   },
   "outputs": [],
   "source": [
    " dataset [1] "
   ]
  },
  {
   "cell_type": "code",
   "execution_count": null,
   "metadata": {
    "colab": {},
    "colab_type": "code",
    "collapsed": true,
    "id": "9-MHSAlx5us7"
   },
   "outputs": [],
   "source": [
    "def lePlusProcheVoisin (x):\n",
    "    lePlusPres = 0\n",
    "    distanceMin = float(\"inf\")\n",
    "    for i in range(1,len(dataset)):\n",
    "        di = distance (x, dataset[i][0:2])\n",
    "        if di != 0 and di < distanceMin:\n",
    "            lePlusPres = i\n",
    "            distanceMin = di\n",
    "    return (lePlusPres)"
   ]
  },
  {
   "cell_type": "code",
   "execution_count": null,
   "metadata": {
    "colab": {
     "base_uri": "https://localhost:8080/",
     "height": 34
    },
    "colab_type": "code",
    "id": "0rfRPej06Em4",
    "outputId": "4405528e-acae-4292-a225-f8d1de9d90a1"
   },
   "outputs": [],
   "source": [
    "lePlusProcheVoisin ((5, 3))"
   ]
  },
  {
   "cell_type": "code",
   "execution_count": null,
   "metadata": {
    "colab": {
     "base_uri": "https://localhost:8080/",
     "height": 34
    },
    "colab_type": "code",
    "id": "qPw8YXCw98bK",
    "outputId": "d26b4dc8-9fad-4e99-9dd8-4788be9a9e1a"
   },
   "outputs": [],
   "source": [
    "dataset [115]"
   ]
  },
  {
   "cell_type": "markdown",
   "metadata": {
    "colab_type": "text",
    "id": "w8xnqwKn-OSH"
   },
   "source": [
    "fonction *lesKplusProchesVoisins* qui prend en paramètre une donnée (une liste de 2 nombres, pas forcément un élément de dataset) et une valeur de k et renvoie la liste des indices dans *dataset* des k plus proches voisins. \n",
    "Quand on prend k=1, cette fonction doit renvoyer le même résultat que la précédente, mis à part le fait que *lePlusProcheVoisin* renvoie une valeur numérique alors que *lesKplusProchesVoisins* renvoie une liste d'un élément. "
   ]
  },
  {
   "cell_type": "code",
   "execution_count": null,
   "metadata": {
    "colab": {},
    "colab_type": "code",
    "collapsed": true,
    "id": "if2zBaG1-Xma"
   },
   "outputs": [],
   "source": [
    "def lesKplusProchesVoisins(x, k):\n",
    "    listeDesDistances = []\n",
    "    for i in range (1,len (dataset)):\n",
    "        listeDesDistances.append (distance (x, dataset[i][0:2]))\n",
    "    Kppv = []\n",
    "    for i in range (k):\n",
    "        p = float (\"inf\")\n",
    "        for j in range (1,len (dataset)-1):\n",
    "            if listeDesDistances [j] != 0 and listeDesDistances [j] < p and j not in Kppv :\n",
    "                p = listeDesDistances [j]\n",
    "                indice = j\n",
    "        Kppv.append(indice)\n",
    "    return (Kppv)"
   ]
  },
  {
   "cell_type": "code",
   "execution_count": null,
   "metadata": {
    "colab": {
     "base_uri": "https://localhost:8080/",
     "height": 34
    },
    "colab_type": "code",
    "id": "2-pl0NUw-lBi",
    "outputId": "04733140-23c4-4a58-c7d9-417db13ffa17"
   },
   "outputs": [],
   "source": [
    "lesKplusProchesVoisins ((5, 3), 3)"
   ]
  },
  {
   "cell_type": "markdown",
   "metadata": {
    "colab_type": "text",
    "id": "bwdYqqmjB1u3"
   },
   "source": [
    "Fonction *predire* qui prend en paramètre une liste de numéro d'exemples (de dataset) et retourne l'étiquette qui est prédite. \n",
    "On décide de l'étiquette en appliquant un choix à la majorité. \n"
   ]
  },
  {
   "cell_type": "code",
   "execution_count": null,
   "metadata": {
    "colab": {},
    "colab_type": "code",
    "collapsed": true,
    "id": "ZJGcOEP4B8ch"
   },
   "outputs": [],
   "source": [
    "def predire (l):\n",
    "    '''Prédire l'espèce d'un iris'''\n",
    "    lesEtiquettes = ['0', '1', '2']\n",
    "    decomptes = [0, 0, 0]\n",
    "    for exemple in l :\n",
    "        for i in range (3):\n",
    "            if dataset [exemple] [2] == lesEtiquettes [i]:\n",
    "                decomptes [i] += 1\n",
    "    plusGrandDecompte = decomptes [0]\n",
    "    indice = 0\n",
    "    for i in range (1,2):\n",
    "        if decomptes [i] > plusGrandDecompte:\n",
    "            plusGrandDecompte = decomptes [i]\n",
    "            indice = i\n",
    "    return (lesEtiquettes[indice])"
   ]
  },
  {
   "cell_type": "code",
   "execution_count": null,
   "metadata": {
    "colab": {
     "base_uri": "https://localhost:8080/",
     "height": 34
    },
    "colab_type": "code",
    "id": "xm2iHshFCYHP",
    "outputId": "99d58da5-735a-404f-a059-0b9de55366f1"
   },
   "outputs": [],
   "source": [
    "predire ([17, 4, 39])"
   ]
  },
  {
   "cell_type": "code",
   "execution_count": null,
   "metadata": {},
   "outputs": [],
   "source": [
    "predire ([142, 137, 87])"
   ]
  },
  {
   "cell_type": "code",
   "execution_count": null,
   "metadata": {
    "colab": {
     "base_uri": "https://localhost:8080/",
     "height": 34
    },
    "colab_type": "code",
    "id": "8ASqMUmdCv2V",
    "outputId": "980936c5-541a-4d01-e438-2b9e85b04229"
   },
   "outputs": [],
   "source": [
    "predire(lesKplusProchesVoisins(dataset[64][0:2], 3))"
   ]
  },
  {
   "cell_type": "markdown",
   "metadata": {
    "colab_type": "text",
    "id": "VqC-qrQQDipv"
   },
   "source": [
    "## <font color=#3876C2> Chapitre 3 - Le module Scikit-learn</font> <a name=\"M3\"></a>"
   ]
  },
  {
   "cell_type": "markdown",
   "metadata": {
    "colab_type": "text",
    "id": "L5B4siDHD8Nr"
   },
   "source": [
    "Il nous permet de faire tout cela bien plus simplement."
   ]
  },
  {
   "cell_type": "code",
   "execution_count": null,
   "metadata": {
    "collapsed": true
   },
   "outputs": [],
   "source": [
    "# On a modifié x\n",
    "x=iris.loc[:,\"petal_length\"]\n",
    "y=iris.loc[:,\"petal_width\"]\n",
    "lab=iris.loc[:,\"species\"]"
   ]
  },
  {
   "cell_type": "code",
   "execution_count": null,
   "metadata": {
    "colab": {
     "base_uri": "https://localhost:8080/",
     "height": 269
    },
    "colab_type": "code",
    "id": "oBeZYHjet3Rq",
    "outputId": "04d4515c-98b5-4653-e1c4-697e5bce2679"
   },
   "outputs": [],
   "source": [
    "from sklearn.neighbors import KNeighborsClassifier\n",
    "\n",
    "#valeurs\n",
    "longueur=2.5\n",
    "largeur=0.75\n",
    "k=3\n",
    "#fin valeurs\n",
    "\n",
    "#graphique\n",
    "plt.scatter(x[lab == 0], y[lab == 0], color='g', label='setosa')\n",
    "plt.scatter(x[lab == 1], y[lab == 1], color='r', label='virginica')\n",
    "plt.scatter(x[lab == 2], y[lab == 2], color='b', label='versicolor')\n",
    "plt.scatter(longueur, largeur, color='k')\n",
    "plt.legend()\n",
    "#fin graphique\n",
    "\n",
    "#algo knn\n",
    "d=list(zip(x,y))\n",
    "model = KNeighborsClassifier(n_neighbors=k)\n",
    "model.fit(d,lab)\n",
    "prediction= model.predict([[longueur,largeur]])\n",
    "#fin algo knn\n",
    "\n",
    "#Affichage résultats\n",
    "txt=\"Résultat : \"\n",
    "if prediction[0]==0:\n",
    "    txt=txt+\"setosa\"\n",
    "if prediction[0]==1:\n",
    "    txt=txt+\"virginica\"\n",
    "if prediction[0]==2:\n",
    "    txt=txt+\"versicolor\"\n",
    "plt.text(3,0.5, f\"largeur : {largeur} cm longueur : {longueur} cm\", fontsize=12)\n",
    "plt.text(3,0.3, f\"k : {k}\", fontsize=12)\n",
    "plt.text(3,0.1, txt, fontsize=12)\n",
    "#fin affichage résultats\n",
    "\n",
    "plt.show()"
   ]
  },
  {
   "cell_type": "markdown",
   "metadata": {
    "colab_type": "text",
    "id": "x9qwcwt6uVaW"
   },
   "source": [
    "La ligne \"d=list(zip(x,y))\" permet de passer des 2 listes x et y à une liste de tuples d.\n",
    "les éléments des tableaux x et y ayant le même indice sont regroupés dans un tuple.\n",
    "\n",
    "\"KNeighborsClassifier\" est une méthode issue de la bibliothèque scikit-learn (voir plus haut le \"from sklearn.neighbors import KNeighborsClassifier\"), cette méthode prend ici en paramètre le nombre de \"plus proches voisins\" (model = KNeighborsClassifier(n_neighbors=k))\n",
    "\n",
    "\"model.fit(d, lab)\" permet d'associer les tuples présents dans la liste \"d\" avec les labels (0 : \"iris setosa\", 1 : \"iris virginica\" ou 2 : \"iris versicolor\"). Par exemple le premier tuple de la liste \"d\", (1.4, 0.2) est associé au premier label de la liste lab (0), et ainsi de suite...\n",
    "\n",
    "La ligne \"prediction= model.predict([[longueur,largeur]])\" permet d'effectuer une prédiction pour un couple [longueur, largeur] (dans l'exemple ci-dessus \"longueur=2.5\" et \"largeur=0.75\"). La variable \"prediction\" contient alors le label trouvé par l'algorithme knn (dans notre exemple \"prediction = 0\")\n",
    "\n",
    "\n",
    "\n"
   ]
  },
  {
   "cell_type": "markdown",
   "metadata": {
    "colab_type": "text",
    "id": "doDn2Tqpvih6"
   },
   "source": [
    "## <font color=#3876C2> Exercice 1</font> <a name=\"M4\"></a>"
   ]
  },
  {
   "cell_type": "markdown",
   "metadata": {
    "colab_type": "text",
    "id": "yPgQrZ0vurbk"
   },
   "source": [
    "Modifiez le programme afin de tester l'algorithme knn avec un nombre \"de plus proches voisins\" différent (en gardant un iris ayant une longueur de pétale égale à 2,5 cm et une largeur de pétale égale à 0,75 cm). Tester k = 5."
   ]
  }
 ],
 "metadata": {
  "colab": {
   "name": "Presentation_knn.ipynb",
   "provenance": [],
   "version": "0.3.2"
  },
  "hide_input": false,
  "kernelspec": {
   "display_name": "Python 3",
   "language": "python",
   "name": "python3"
  },
  "language_info": {
   "codemirror_mode": {
    "name": "ipython",
    "version": 3
   },
   "file_extension": ".py",
   "mimetype": "text/x-python",
   "name": "python",
   "nbconvert_exporter": "python",
   "pygments_lexer": "ipython3",
   "version": "3.6.3"
  }
 },
 "nbformat": 4,
 "nbformat_minor": 1
}
