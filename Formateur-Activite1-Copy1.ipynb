{
 "cells": [
  {
   "cell_type": "markdown",
   "metadata": {},
   "source": [
    "# Recherche dans une image de pixels d'une certaine couleur"
   ]
  },
  {
   "cell_type": "markdown",
   "metadata": {},
   "source": [
    "Les modules dont nous aurons besoin :"
   ]
  },
  {
   "cell_type": "code",
   "execution_count": null,
   "metadata": {
    "colab": {},
    "colab_type": "code",
    "collapsed": true,
    "id": "_6lRyZMalim9"
   },
   "outputs": [],
   "source": [
    "import matplotlib.image as mpimg\n",
    "import matplotlib.pyplot as plt\n",
    "%matplotlib inline\n",
    "# Commandes magiques pour améliorer la visualiation : les sorties d’affichage sont affichées “en ligne” et peuvent être stockées\n",
    "import numpy as np"
   ]
  },
  {
   "cell_type": "markdown",
   "metadata": {},
   "source": [
    "On charge la photo des sauveteurs..."
   ]
  },
  {
   "cell_type": "code",
   "execution_count": null,
   "metadata": {
    "collapsed": true
   },
   "outputs": [],
   "source": [
    "img = mpimg.imread(\"sauveteurs.png\")"
   ]
  },
  {
   "cell_type": "markdown",
   "metadata": {},
   "source": [
    "### Charger l'image comme matrice de pixels"
   ]
  },
  {
   "cell_type": "code",
   "execution_count": null,
   "metadata": {
    "colab": {
     "base_uri": "https://localhost:8080/",
     "height": 850
    },
    "colab_type": "code",
    "collapsed": false,
    "id": "sEo8kt0Nu1QG",
    "outputId": "ceabe972-6058-4421-f1fb-dbc0486beb55"
   },
   "outputs": [],
   "source": [
    "image = np.array(img)\n",
    "image\n"
   ]
  },
  {
   "cell_type": "markdown",
   "metadata": {
    "colab_type": "text",
    "id": "v96XrnremFNd"
   },
   "source": [
    "Dans une image courleur, les plans sont généralement au nombre de 3 : Rouge, Vert et Bleu. Il peut parfois y avoir un 4e plan qui correspond à la transparence. Pour obtenir la taille le long de chaque dimension :\n"
   ]
  },
  {
   "cell_type": "code",
   "execution_count": null,
   "metadata": {
    "colab": {
     "base_uri": "https://localhost:8080/",
     "height": 34
    },
    "colab_type": "code",
    "collapsed": false,
    "id": "n7DCIfggl3sl",
    "outputId": "5976c89a-5bf1-43d0-bcf9-fac8d10f6bfd"
   },
   "outputs": [],
   "source": [
    "image.shape"
   ]
  },
  {
   "cell_type": "markdown",
   "metadata": {
    "colab_type": "text",
    "id": "mbibxJKXnhhY"
   },
   "source": [
    "L'image précédente a donc 400 lignes, 1280 colonnes et 4 plans.Pour enlever le quatrième plan on procède ainsi :"
   ]
  },
  {
   "cell_type": "code",
   "execution_count": null,
   "metadata": {
    "colab": {},
    "colab_type": "code",
    "collapsed": true,
    "id": "7C6C5lCtlMnf"
   },
   "outputs": [],
   "source": [
    "if image.dtype == np.float32: # Si le résultat n'est pas un tableau d'entiers\n",
    "    image = (image * 255).astype(np.uint8)"
   ]
  },
  {
   "cell_type": "code",
   "execution_count": null,
   "metadata": {
    "colab": {},
    "colab_type": "code",
    "collapsed": false,
    "id": "-HQEdamankuf"
   },
   "outputs": [],
   "source": [
    "image = image[:,:,:3]\n",
    "image"
   ]
  },
  {
   "cell_type": "code",
   "execution_count": null,
   "metadata": {
    "colab": {
     "base_uri": "https://localhost:8080/",
     "height": 146
    },
    "colab_type": "code",
    "collapsed": false,
    "id": "f5v5ICBVvjyZ",
    "outputId": "033dc3b6-9708-42b3-c2ca-73febb5b7bd7"
   },
   "outputs": [],
   "source": [
    "plt.imshow(image)\n",
    "plt.show()"
   ]
  },
  {
   "cell_type": "markdown",
   "metadata": {
    "colab_type": "text",
    "id": "LfHfcgCFm52i"
   },
   "source": [
    "Voici un exemple de fonction qui prend une image en paramètre, et renvoie une image modifiée (les composantes vertes et bleues sont annulées). Elle peut servir de base pour construire des filtres :"
   ]
  },
  {
   "cell_type": "code",
   "execution_count": null,
   "metadata": {
    "colab": {},
    "colab_type": "code",
    "collapsed": true,
    "id": "ykhhswKzmK6l"
   },
   "outputs": [],
   "source": [
    "def filtre_rouge(img_orig):\n",
    "    im = np.copy(img_orig) # On fait une copie de l'original\n",
    "    for i in range(im.shape[0]):\n",
    "        for j in range(im.shape[1]):\n",
    "            r, v, b = im[i, j]\n",
    "            im[i, j] = (r, 0,0)\n",
    "    return im"
   ]
  },
  {
   "cell_type": "code",
   "execution_count": null,
   "metadata": {
    "colab": {
     "base_uri": "https://localhost:8080/",
     "height": 146
    },
    "colab_type": "code",
    "collapsed": false,
    "id": "AuRyQpbknH75",
    "outputId": "7cf44056-fde6-4861-b420-d4b3a3009a67"
   },
   "outputs": [],
   "source": [
    "image_rouge = filtre_rouge(image)\n",
    "plt.imshow(image_rouge)\n",
    "plt.show()"
   ]
  },
  {
   "cell_type": "markdown",
   "metadata": {
    "colab_type": "text",
    "id": "HVKqqvnKo24s"
   },
   "source": [
    "Pour enregistrer des images, on utilise une méthode similaire au chargement. Matplotlib permet ainsi de sauvegarder directement un tableau numpy au format PNG uniquement."
   ]
  },
  {
   "cell_type": "code",
   "execution_count": null,
   "metadata": {
    "colab": {},
    "colab_type": "code",
    "collapsed": true,
    "id": "y8AldIx8o9H4"
   },
   "outputs": [],
   "source": [
    "mpimg.imsave(\"resultat.png\", image_rouge)"
   ]
  },
  {
   "cell_type": "markdown",
   "metadata": {
    "colab_type": "text",
    "id": "Xw6q4zt_NKCO"
   },
   "source": [
    "Fonction permettant de remplacer une zone proche d'une certaine couleur par une autre avec repérage de la zone accueillant éventuellement un logo"
   ]
  },
  {
   "cell_type": "code",
   "execution_count": null,
   "metadata": {
    "collapsed": true
   },
   "outputs": [],
   "source": [
    "place_logo_width = [image.shape[0],0]\n",
    "place_logo_height = [image.shape[1],0]"
   ]
  },
  {
   "cell_type": "code",
   "execution_count": null,
   "metadata": {
    "colab": {},
    "colab_type": "code",
    "collapsed": true,
    "id": "5y-BfVjaNWVV"
   },
   "outputs": [],
   "source": [
    "def changer_couleur(img_orig,r,v,b):\n",
    "    \n",
    "                \n",
    "    return im"
   ]
  },
  {
   "cell_type": "code",
   "execution_count": null,
   "metadata": {
    "colab": {
     "base_uri": "https://localhost:8080/",
     "height": 146
    },
    "colab_type": "code",
    "collapsed": false,
    "id": "ROdON7isPhiN",
    "outputId": "c3a6b664-48d9-45dc-e764-9f8731bf24a2"
   },
   "outputs": [],
   "source": [
    "image_remplacee = changer_couleur(image,0,95,185)\n",
    "plt.imshow(image_remplacee)\n",
    "plt.show()"
   ]
  },
  {
   "cell_type": "markdown",
   "metadata": {},
   "source": [
    "Initialisation de la zone susceptible d'accueillir un logo sur le bateau"
   ]
  }
 ],
 "metadata": {
  "colab": {
   "name": "Activite1.ipynb",
   "provenance": [],
   "version": "0.3.2"
  },
  "hide_input": false,
  "kernelspec": {
   "display_name": "Python 3",
   "language": "python",
   "name": "python3"
  },
  "language_info": {
   "codemirror_mode": {
    "name": "ipython",
    "version": 3
   },
   "file_extension": ".py",
   "mimetype": "text/x-python",
   "name": "python",
   "nbconvert_exporter": "python",
   "pygments_lexer": "ipython3",
   "version": "3.6.0"
  }
 },
 "nbformat": 4,
 "nbformat_minor": 1
}
