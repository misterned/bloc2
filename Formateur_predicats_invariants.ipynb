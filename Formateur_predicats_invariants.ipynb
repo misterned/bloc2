{
 "cells": [
  {
   "cell_type": "markdown",
   "metadata": {
    "colab_type": "text",
    "id": "NPuVc6kDrQ0z"
   },
   "source": [
    "# Prédicats et invariants"
   ]
  },
  {
   "cell_type": "markdown",
   "metadata": {},
   "source": [
    "# Table des matières\n",
    "**[Chapitre 1 - Les applications](#M1)**  \n",
    " \n",
    "**[Chapitre 2 - L'espace d'état](#M2)**.   \n",
    "\n",
    "**[Chapitre 3 - L'invariant](#M3)**  \n",
    "\n",
    "**[Chapitre 4 - Les prédicats](#M4)**  \n",
    "\n",
    "**[Chapitre 5 - La trajectoire](#M5)** \n",
    "\n",
    "**[Chapitre 6 - La précondition](#M6)** \n",
    "\n",
    "**[Chapitre 7 - La postcondition](#M7)** \n",
    "\n",
    "**[Chapitre 8 - Le triplet de Hoare](#M8)** \n",
    "\n",
    "**[Chapitre 9 - La spécification](#M9)** \n",
    "\n",
    "**[Exercice 1](#M10)** \n",
    "\n",
    "**[Exercice 2](#M11)** "
   ]
  },
  {
   "cell_type": "markdown",
   "metadata": {
    "colab_type": "text",
    "id": "IixoQj6BrURD"
   },
   "source": [
    "## <font color=#3876C2> Chapitre 1 - Les applications</font> <a name=\"M1\"></a>"
   ]
  },
  {
   "cell_type": "markdown",
   "metadata": {},
   "source": [
    "L’informaticien conçoit des *modèles* (applications). Ceux-ci sont mis en oeuvre et étudiés à travers des systèmes\n",
    "par un ensemble de *variables d’état* (appelées en informatique *variables de programmation* ou plus\n",
    "simplement *variables*). C’est l’aspect statique du modèle. Son évolution dans le temps s’opère par\n",
    "un changement de la valeur des variables. C’est son aspect dynamique."
   ]
  },
  {
   "cell_type": "markdown",
   "metadata": {},
   "source": [
    "## <font color=#3876C2> Chapitre 2 - L'espace d'état</font> <a name=\"M2\"></a>"
   ]
  },
  {
   "cell_type": "markdown",
   "metadata": {},
   "source": [
    "Prenons comme exemple un modèle de calendrier (Pour simplifier, nous faisons abstraction des années bissextiles). Ce modèle peut se représenter par les deux variables « jour » (notée *j*) et « mois » (notée *m*). À un instant donné (c’est l’aspect statique du modèle), il se trouve dans un *état* : chacune des variables *j* et *m* est associée à une valeur bien\n",
    "déterminée. Ainsi, la date du 12 mars est représentée par l’état signalé par un • à la figure ci-dessous."
   ]
  },
  {
   "cell_type": "markdown",
   "metadata": {},
   "source": [
    "<figure>\n",
    "<img src=\"fig1.PNG\">\n",
    "<center><figcation>Le modèle \"calendrier\" et l'état \"12 mars\"</figcation></center>\n",
    "</figure>"
   ]
  },
  {
   "cell_type": "markdown",
   "metadata": {},
   "source": [
    "Chaque variable prend ses valeurs sur un *domaine* (ou type) discret (comme les naturels, les\n",
    "booléens, les flottants 2, les relatifs, etc.). Pour l’exemple du calendrier, la variable *j* prend ses valeurs\n",
    "sur l’intervalle d’entiers 1..31, tandis que la variable *m* prend ses valeurs sur l’intervalle d’entiers [[1..12]]\n",
    "(en admettant que 1 code le mois de janvier, 2 code le mois de février, etc.). Le produit cartésien des\n",
    "domaines des variables est appelé *espace d’états* du système.\n",
    "Pour l’exemple du calendrier, l’*espace d’états* se représente dans le plan par le schéma de la figure\n",
    "ci-dessous."
   ]
  },
  {
   "cell_type": "markdown",
   "metadata": {},
   "source": [
    "<figure>\n",
    "<img src=\"fig2.PNG\">\n",
    "<center><figcation>L'espace d'état dans l'exemple du calendrier</figcation></center>\n",
    "</figure>"
   ]
  },
  {
   "cell_type": "markdown",
   "metadata": {},
   "source": [
    "## <font color=#3876C2> Chapitre 3 - L'invariant</font> <a name=\"M3\"></a>"
   ]
  },
  {
   "cell_type": "markdown",
   "metadata": {},
   "source": [
    "En outre, les variables entretiennent (en général) une relation qui contraint les valeurs qu’elles\n",
    "peuvent prendre, relation qui doit être instaurée initialement et satisfaite par chacun des états que\n",
    "peut prendre le système. Le tout (l’espace d’états et la relation qui lie les différentes variables) constitue\n",
    "l’*invariant* du système.\n",
    "L’*invariant* peut se verbaliser en français. Pour l’exemple du calendrier on peut dire que :\n",
    "1. les jours sont compris entre 1 et 31 et les mois entre 1 et 12,\n",
    "2. s’il s’agit du mois de février, le jour ne peut être supérieur à 28,\n",
    "3. si le mois précède le mois d’août, et si son code est pair mais différent de 2, le jour ne peut\n",
    "dépasser la valeur 30.\n",
    "4. si le mois est situé après le mois d’août, et si son code est impair, le jour ne peut dépasser la\n",
    "valeur 30.\n",
    "\n",
    "Graphiquement l’*invariant* se présente comme le montre la figure suivante :"
   ]
  },
  {
   "cell_type": "markdown",
   "metadata": {},
   "source": [
    "<figure>\n",
    "<img src=\"fig3.PNG\">\n",
    "<center><figcation>L'invariant du modèle \"calendrier\"</figcation></center>\n",
    "</figure>"
   ]
  },
  {
   "cell_type": "markdown",
   "metadata": {},
   "source": [
    "## <font color=#3876C2> Chapitre 4 - Les prédicats</font> <a name=\"M4\"></a>"
   ]
  },
  {
   "cell_type": "markdown",
   "metadata": {},
   "source": [
    "Nous pouvons également utiliser le langage de la logique des *prédicats* pour exprimer l’invariant. Un *prédicat* est\n",
    "un énoncé exprimé dans ce langage. Plus précisément dans le cadre d’une application définie sur l’*espace d’états* E, un *prédicat* est une fonction booléenne définie sur E. Pour le cas du calendrier nous pouvons reformuler l’invariant exprimé en français ci-dessus par le *prédicat* suivant :"
   ]
  },
  {
   "cell_type": "markdown",
   "metadata": {},
   "source": [
    "$$ (j \\: \\in \\: 1..3) \\: and \\: (m \\: \\in \\: 1..12) $$\n",
    "<center>$$and$$</center>\n",
    "$$ (m \\: == \\: 2 \\: \\Rightarrow \\: j \\: \\in \\: 1..28) $$\n",
    "<center>$$and$$</center>\n",
    "$$ (m \\: < \\: 8 \\: and \\: m!= \\: 2 \\: and \\: m\\%2 \\: == \\: 0 \\: \\Rightarrow \\: j \\in \\: 1..30)$$\n",
    "<center>$$and$$</center>\n",
    "$$ (m \\: > \\: 8 \\: and \\: m\\%2 \\: == \\: 1 \\: \\Rightarrow \\: j \\in \\: 1..30)$$"
   ]
  },
  {
   "cell_type": "markdown",
   "metadata": {},
   "source": [
    "## <font color=#3876C2> Chapitre 5 - La trajectoire</font> <a name=\"M5\"></a>"
   ]
  },
  {
   "cell_type": "markdown",
   "metadata": {},
   "source": [
    "Prenons un autre exemple à travers ce *modèle* : "
   ]
  },
  {
   "cell_type": "code",
   "execution_count": 1,
   "metadata": {
    "collapsed": false
   },
   "outputs": [
    {
     "name": "stdout",
     "output_type": "stream",
     "text": [
      "1 1\n"
     ]
    }
   ],
   "source": [
    "x, y = 14, 9\n",
    "while x!= y :\n",
    "    if x > y :\n",
    "        x = x - y\n",
    "    else :\n",
    "        y = y - x\n",
    "print(x,y)"
   ]
  },
  {
   "cell_type": "markdown",
   "metadata": {},
   "source": [
    "L'espace d'état est le produit cartésien des domaines des variables x et y soit $$ \\mathbb{N} \\: \\times \\: \\mathbb{N} $$"
   ]
  },
  {
   "cell_type": "markdown",
   "metadata": {},
   "source": [
    "Pour x = 14 et y = 9, l’exécution est décrite dans le schéma ci-dessous par la *trajectoire* qui part de l’état $e_1$ et\n",
    "qui s’achève à l’état $e_7$ = {(x, 1), (y, 1)}, puisque 14 et 9 sont premiers entre-eux."
   ]
  },
  {
   "cell_type": "markdown",
   "metadata": {},
   "source": [
    "<figure>\n",
    "<img src=\"fig4.PNG\">\n",
    "<center><figcation>Trajectoire du modèle</figcation></center>\n",
    "</figure>"
   ]
  },
  {
   "cell_type": "markdown",
   "metadata": {},
   "source": [
    "## <font color=#3876C2> Chapitre 6 - La précondition</font> <a name=\"M6\"></a>"
   ]
  },
  {
   "cell_type": "markdown",
   "metadata": {},
   "source": [
    "Que se passe-t-il si le programme ci-dessus débute son exécution dans l’état {(x, 5), (y, 0)} ? Il est\n",
    "facile de voir que, puisque x > y, le prochain état sera à nouveau {(x, 5), (y, 0)} et que l’exécution ne\n",
    "s’arrêtera que sur une intervention extérieure (on dit que le programme boucle, ou qu’il ne se termine\n",
    "pas).\n",
    "L’espace d’états de départ se partitionne donc en deux sous-ensembles : le sous-ensemble des états\n",
    "qui produisent un résultat « intéressant » (l’état {(x, 14), (y, 9)} en fait partie) et son complément, le\n",
    "sous-ensemble des états qui ne produisent pas de résultat intéressant vis-à-vis du problème à résoudre,\n",
    "ou qui ne produisent pas de résultat du tout (comme pour l’état de départ {(x, 5), (y, 0)}).\n",
    "La caractérisation des états intéressants s’effectue par un prédicat dénommé *précondition*. Pour\n",
    "notre exemple le prédicat suivant :"
   ]
  },
  {
   "cell_type": "markdown",
   "metadata": {},
   "source": [
    "$$ X \\: \\in \\mathbb{N} \\: and \\: Y \\: \\in \\mathbb{N} \\: and \\: x \\: == \\: X \\: and \\: y \\: == \\: Y \\: and \\: x \\: > \\: 0 \\: and \\: y \\: > \\: 0 $$"
   ]
  },
  {
   "cell_type": "markdown",
   "metadata": {},
   "source": [
    "constitue une précondition acceptable. En l’occurrence il s’agit du prédicat le moins contraignant\n",
    "possible (le plus faible possible). Il est clair que tout prédicat plus fort que ce dernier (comme par\n",
    "exemple"
   ]
  },
  {
   "cell_type": "markdown",
   "metadata": {},
   "source": [
    "$$ X \\: \\in \\mathbb{N} \\: and \\: Y \\: \\in \\mathbb{N} \\: and \\: x \\: == \\: X \\: and \\: y \\: == \\: Y \\: and \\: x \\: > \\: 1 \\: and \\: y \\: > \\: 13 $$"
   ]
  },
  {
   "cell_type": "markdown",
   "metadata": {},
   "source": [
    "constitue une\n",
    "précondition acceptable puisque (bien qu’elle n’autorise pas en principe le calcul du pgcd de 2 et de\n",
    "2) elle conduit au résultat attendu."
   ]
  },
  {
   "cell_type": "markdown",
   "metadata": {},
   "source": [
    "## <font color=#3876C2> Chapitre 7 - La postcondition</font> <a name=\"M7\"></a>"
   ]
  },
  {
   "cell_type": "markdown",
   "metadata": {},
   "source": [
    "Caractériser le résultat recherché est également nécessaire. Ceci peut se faire en exprimant une\n",
    "relation qui lie toutes les variables de programmation de l’opération. Pour notre exemple du pgcd,\n",
    "une postcondition possible est :"
   ]
  },
  {
   "cell_type": "markdown",
   "metadata": {},
   "source": [
    "$$ x \\: == \\: y \\: and \\: x \\: == \\: max(\\{i\\:|\\:i \\: \\in \\: {\\mathbb{N}^*} \\: and \\: X\\%i \\: = \\:0\\}\\: \\cap \\: \\{i\\:|\\:i \\: \\in \\: {\\mathbb{N}^*} \\: and \\: Y\\%i \\: = \\:0\\})  $$"
   ]
  },
  {
   "cell_type": "markdown",
   "metadata": {},
   "source": [
    "Celle-ci se paraphrase par : « x et y sont égaux et x est la plus grande des valeurs présentes dans\n",
    "l’intersection de l’ensemble des diviseurs de X et de l’ensemble des diviseurs de Y »"
   ]
  },
  {
   "cell_type": "markdown",
   "metadata": {},
   "source": [
    "## <font color=#3876C2> Chapitre 8 - Le triplet de Hoare</font> <a name=\"M8\"></a>"
   ]
  },
  {
   "cell_type": "markdown",
   "metadata": {},
   "source": [
    "Soit P et Q deux prédicats et S un modèle (programme). La formule :\n",
    "{P} S {Q}\n",
    "est un prédicat appelé *triplet de Hoare*. Sa signification est la suivante : si S débute son exécution\n",
    "dans un état satisfaisant P alors :\n",
    "1. S termine au bout d’un temps fini,\n",
    "2. et S se termine dans un état satisfaisant Q."
   ]
  },
  {
   "cell_type": "markdown",
   "metadata": {},
   "source": [
    "Il est légitime de se poser la question de savoir ce qu’il advient si S ne débute pas dans un état\n",
    "satisfaisant P. On admet que n’importe quoi peut survenir : terminaison dans un état satisfaisant Q,\n",
    "terminaison dans un état ne satisfaisant pas Q, erreur, non terminaison.\n",
    "\n",
    "#### Dans ce cours nous n'étudierons pas l'axiomatique de Hoare qui fournit un ensemble de règles pour raisonner sur les triplets de Hoare\n"
   ]
  },
  {
   "cell_type": "markdown",
   "metadata": {},
   "source": [
    "## <font color=#3876C2> Chapitre 9 - La spécification</font> <a name=\"M9\"></a>"
   ]
  },
  {
   "cell_type": "markdown",
   "metadata": {},
   "source": [
    "Le couple (P,Q) est appelé la *spécification* de l’opération. En guise d’exemple voici une *spécification*\n",
    "de l’opération PGCD en terme de triplet de Hoare :"
   ]
  },
  {
   "cell_type": "markdown",
   "metadata": {},
   "source": [
    "$$ \\{ Précondition \\: : \\: X \\: \\in \\mathbb{N} \\: and \\: Y \\: \\in \\mathbb{N} \\: and \\: x \\: == \\: X \\: and \\: y \\: == \\: Y \\: and \\: x \\: > \\: 0 \\: and \\: y \\: > \\: 0 \\} $$ \n",
    "<center>PGCD</center>\n",
    "$$ \\{ Postcondition \\: :x \\: == \\: y \\: and \\: x \\: == \\: max(\\{i\\:|\\:i \\: \\in \\: {\\mathbb{N}^*} \\: and \\: X\\%i \\: = \\:0\\}\\: \\cap \\: \\{i\\:|\\:i \\: \\in \\: {\\mathbb{N}^*} \\: and \\: Y\\%i \\: = \\:0\\}) \\} $$"
   ]
  },
  {
   "cell_type": "markdown",
   "metadata": {},
   "source": [
    "Le triplet de Hoare peut être considéré comme un contrat entre le concepteur du programme S et\n",
    "son (ses) utilisateur(s). Ce contrat se formule en ces termes : « si vous, utilisateur de S, garantissez que\n",
    "le prédicat P est satisfait immédiatement avant que S ne débute son exécution, alors, moi, concepteur\n",
    "de l’opération S, je vous garantis que S se terminera et que le prédicat Q sera satisfait à l’issue de\n",
    "l’exécution ». Inversement, si le concepteur de S fait usage d’un fragment de code S0, spécifié par\n",
    "le couple (P0,Q0), il lui revient de s’assurer que l’invocation de S0 se fait dans une situation où le\n",
    "prédicat P0 est satisfait.\n",
    "Différents types d’activités sont envisageables autour du triplet de Hoare, selon que P, S ou Q\n",
    "sont connus (donnés) ou non.\n",
    "1. Si les trois constituants sont donnés, il s’agit de vérifier que le prédicat {P} S {Q} est valide\n",
    "(est toujours vrai). Autrement dit il s’agit de démontrer la correction du programme S. Ceci peut s’effectuer en\n",
    "utilisant l’axiomatique de Hoare (non étudié dans cette présentation). Du point de vue informatique, cette activité ne présente que peu d’intérêt puisqu’elle présuppose que S est connu.\n",
    "2. Le cas le plus intéressant est celui ou la spécification (P,Q) est donnée et S est (l’)inconnu(e).\n",
    "Il s’agit alors de résoudre une équation en S. Malheureusement, les méthodes traditionnelles des\n",
    "mathématiques se transposent difficilement à ce type d’équation. En particulier, il peut certes\n",
    "ne pas y avoir de solution mais s’il en existe une, il en existe une infinité (ne serait-ce qu’en\n",
    "insérant une séquence de longueur arbitraire de l’instruction *pass* dans le code de S).\n",
    "Le principe de la démarche consiste à partir de la précondition pour aller vers la postcondition."
   ]
  },
  {
   "cell_type": "markdown",
   "metadata": {},
   "source": [
    "## <font color=#3876C2> Exercice 1</font> <a name=\"M10\"></a>"
   ]
  },
  {
   "cell_type": "markdown",
   "metadata": {},
   "source": [
    "Construire le programme (sous forme de fonction) spécifié par :"
   ]
  },
  {
   "cell_type": "markdown",
   "metadata": {},
   "source": [
    "$$ \\{ Précondition \\: : \\:(T \\:est \\:une \\:liste \\:de \\:N \\:entiers \\:naturels)\\: and \\:(N\\: \\geq \\: 0) \\: and \\:(S \\:est \\:une \\:constante)\\: and \\:(S \\: \\in \\mathbb{N})\\} $$ \n",
    "<center>Ex1</center>\n",
    "$$ \\{ Postcondition \\: :\\: sss \\: == \\:(\\sum_{j=0}^{N-1} T[j] \\: > \\: S ) \\} $$"
   ]
  },
  {
   "cell_type": "markdown",
   "metadata": {},
   "source": [
    "En français : L’exercice consiste, partant d’une liste T, à déterminer si la somme des éléments de T\n",
    "est ou non supérieure à une valeur entière donnée S."
   ]
  },
  {
   "cell_type": "code",
   "execution_count": 2,
   "metadata": {
    "collapsed": true
   },
   "outputs": [],
   "source": [
    "# chargement de l'exercice\n",
    "from corrections.exo_somme_liste import exo_somme_liste"
   ]
  },
  {
   "cell_type": "code",
   "execution_count": 3,
   "metadata": {
    "collapsed": false
   },
   "outputs": [
    {
     "data": {
      "text/html": [
       "<table style='font-family:monospace;font-size:small;'><tr style='font-family:monospace;font-size:medium;'><th style='text-align: center;'>Appel</th><th style='text-align: center;'>Résultat Attendu</th></tr><tr><td><pre>somme_liste(\n",
       "  [10, 3, 5],\n",
       "  20)\n",
       "</pre></td><td><pre>\n",
       "False</pre></td></tr></table>"
      ],
      "text/plain": [
       "<IPython.core.display.HTML object>"
      ]
     },
     "execution_count": 3,
     "metadata": {},
     "output_type": "execute_result"
    }
   ],
   "source": [
    "exo_somme_liste.example()"
   ]
  },
  {
   "cell_type": "code",
   "execution_count": 4,
   "metadata": {
    "collapsed": true
   },
   "outputs": [],
   "source": [
    "def somme_liste(T, S):\n",
    "    '''partant d’une liste T, on détermine si la somme des éléments de T\n",
    "       est ou non supérieure à une valeur entière donnée S.\n",
    "       Entrez votre fonction ici'''\n",
    "    N = len(T)\n",
    "    i , sss , sp = 0 , False , 0\n",
    "    while not(i == N):\n",
    "        sss = sss or (sp + T[i]>S)\n",
    "        sp = sp + T[i]\n",
    "        i += 1\n",
    "    return sss"
   ]
  },
  {
   "cell_type": "code",
   "execution_count": 5,
   "metadata": {
    "collapsed": false
   },
   "outputs": [
    {
     "data": {
      "text/html": [
       "<table style='font-family:monospace;font-size:small;'><tr style='font-family:monospace;font-size:medium;'><th style='text-align: center;'>Appel</th><th style='text-align: center;'>Attendu</th><th style='text-align: center;'>Obtenu</th><th style='text-align: center;'></th></tr><tr style='background-color:#d6e9ce;'><td><pre>somme_liste(\n",
       "  [10, 3, 5],\n",
       "  20)\n",
       "</pre></td><td><pre>\n",
       "False</pre></td><td><pre>\n",
       "False</pre></td><td>OK</td></tr><tr style='background-color:#d6e9ce;'><td><pre>somme_liste(\n",
       "  [10, 13, 5],\n",
       "  20)\n",
       "</pre></td><td><pre>\n",
       "True</pre></td><td><pre>\n",
       "True</pre></td><td>OK</td></tr><tr style='background-color:#d6e9ce;'><td><pre>somme_liste(\n",
       "  [10, 3, 5, 4],\n",
       "  20)\n",
       "</pre></td><td><pre>\n",
       "True</pre></td><td><pre>\n",
       "True</pre></td><td>OK</td></tr><tr style='background-color:#d6e9ce;'><td><pre>somme_liste(\n",
       "  [10, 3, 5, 1, 0],\n",
       "  23)\n",
       "</pre></td><td><pre>\n",
       "False</pre></td><td><pre>\n",
       "False</pre></td><td>OK</td></tr></table>"
      ],
      "text/plain": [
       "<IPython.core.display.HTML object>"
      ]
     },
     "execution_count": 5,
     "metadata": {},
     "output_type": "execute_result"
    }
   ],
   "source": [
    "# pour vérifier votre code\n",
    "exo_somme_liste.correction(somme_liste)"
   ]
  },
  {
   "cell_type": "markdown",
   "metadata": {
    "collapsed": true
   },
   "source": [
    "## <font color=#3876C2> Exercice 2</font> <a name=\"M11\"></a>"
   ]
  },
  {
   "cell_type": "markdown",
   "metadata": {},
   "source": [
    "Déterminer la spécification d'un programme qui donne, s’il y a lieu, la position du plus petit indice pour lequel\n",
    "la somme de tous les élément d'une liste T dépasse la valeur S."
   ]
  },
  {
   "cell_type": "markdown",
   "metadata": {},
   "source": [
    "$$ \\{ Précondition \\: : \\:(T \\:est \\:une \\:liste \\:de \\:N \\:entiers \\:naturels)\\: and \\:(N\\: \\geq \\: 0) \\: and \\:(S \\:est \\:une \\:constante)\\: and \\:(S \\: \\in \\mathbb{N})\\} $$ \n",
    "<center>Ex2</center>\n",
    "$$ \\{ Postcondition \\: :\\: (i \\: \\in \\:0..N) \\: and \\:  (\\forall j \\: ( j\\: \\in \\:0..i - 1 \\: \\Rightarrow \\:(\\sum_{k=0}^{j} T[k] \\: \\leq \\: S )) \\: and \\:  (( i \\: == \\: N) \\: or \\: (\\sum_{k=0}^{i} T[k] \\: > \\: S ))\\} $$"
   ]
  },
  {
   "cell_type": "markdown",
   "metadata": {},
   "source": [
    "Ecrire le programme (sous forme de fonction) :"
   ]
  },
  {
   "cell_type": "code",
   "execution_count": 6,
   "metadata": {
    "collapsed": true
   },
   "outputs": [],
   "source": [
    "# chargement de l'exercice\n",
    "from corrections.exo_somme_indice import exo_somme_indice"
   ]
  },
  {
   "cell_type": "code",
   "execution_count": 7,
   "metadata": {
    "collapsed": false
   },
   "outputs": [
    {
     "data": {
      "text/html": [
       "<table style='font-family:monospace;font-size:small;'><tr style='font-family:monospace;font-size:medium;'><th style='text-align: center;'>Appel</th><th style='text-align: center;'>Résultat Attendu</th></tr><tr><td><pre>somme_indice(\n",
       "  [10, 3, 5],\n",
       "  20)\n",
       "</pre></td><td><pre>\n",
       "(False, 3)</pre></td></tr></table>"
      ],
      "text/plain": [
       "<IPython.core.display.HTML object>"
      ]
     },
     "execution_count": 7,
     "metadata": {},
     "output_type": "execute_result"
    }
   ],
   "source": [
    "exo_somme_indice.example()"
   ]
  },
  {
   "cell_type": "code",
   "execution_count": 8,
   "metadata": {
    "collapsed": true
   },
   "outputs": [],
   "source": [
    "def somme_indice(T, S):\n",
    "    '''partant d’une liste T, on détermine si la somme des éléments de T\n",
    "     est ou non supérieure à une valeur entière donnée S et si oui à partir de quel indice c'est la cas.\n",
    "     Entrez votre fonction ici'''\n",
    "    N = len(T)\n",
    "    i , sp = 0 , 0\n",
    "    while not((i == N)or (sp + T[i]>S)):\n",
    "        sp = sp + T[i]\n",
    "        i += 1\n",
    "    sss = not(i == N)\n",
    "    return sss, i"
   ]
  },
  {
   "cell_type": "code",
   "execution_count": 9,
   "metadata": {
    "collapsed": false
   },
   "outputs": [
    {
     "data": {
      "text/html": [
       "<table style='font-family:monospace;font-size:small;'><tr style='font-family:monospace;font-size:medium;'><th style='text-align: center;'>Appel</th><th style='text-align: center;'>Attendu</th><th style='text-align: center;'>Obtenu</th><th style='text-align: center;'></th></tr><tr style='background-color:#d6e9ce;'><td><pre>somme_indice(\n",
       "  [10, 3, 5],\n",
       "  20)\n",
       "</pre></td><td><pre>\n",
       "(False, 3)</pre></td><td><pre>\n",
       "(False, 3)</pre></td><td>OK</td></tr><tr style='background-color:#d6e9ce;'><td><pre>somme_indice(\n",
       "  [10, 13, 5],\n",
       "  20)\n",
       "</pre></td><td><pre>\n",
       "(True, 1)</pre></td><td><pre>\n",
       "(True, 1)</pre></td><td>OK</td></tr><tr style='background-color:#d6e9ce;'><td><pre>somme_indice(\n",
       "  [10, 3, 5, 4],\n",
       "  20)\n",
       "</pre></td><td><pre>\n",
       "(True, 3)</pre></td><td><pre>\n",
       "(True, 3)</pre></td><td>OK</td></tr><tr style='background-color:#d6e9ce;'><td><pre>somme_indice(\n",
       "  [10, 3, 5, 1, 0],\n",
       "  23)\n",
       "</pre></td><td><pre>\n",
       "(False, 5)</pre></td><td><pre>\n",
       "(False, 5)</pre></td><td>OK</td></tr><tr style='background-color:#d6e9ce;'><td><pre>somme_indice(\n",
       "  [10, 3, 5, 1, 0],\n",
       "  12)\n",
       "</pre></td><td><pre>\n",
       "(True, 1)</pre></td><td><pre>\n",
       "(True, 1)</pre></td><td>OK</td></tr></table>"
      ],
      "text/plain": [
       "<IPython.core.display.HTML object>"
      ]
     },
     "execution_count": 9,
     "metadata": {},
     "output_type": "execute_result"
    }
   ],
   "source": [
    "# pour vérifier votre code\n",
    "exo_somme_indice.correction(somme_indice)"
   ]
  }
 ],
 "metadata": {
  "colab": {
   "name": "presentation_predicats_invariants.ipynb",
   "provenance": [],
   "version": "0.3.2"
  },
  "hide_input": false,
  "kernelspec": {
   "display_name": "Python 3",
   "language": "python",
   "name": "python3"
  },
  "language_info": {
   "codemirror_mode": {
    "name": "ipython",
    "version": 3
   },
   "file_extension": ".py",
   "mimetype": "text/x-python",
   "name": "python",
   "nbconvert_exporter": "python",
   "pygments_lexer": "ipython3",
   "version": "3.6.0"
  }
 },
 "nbformat": 4,
 "nbformat_minor": 1
}
