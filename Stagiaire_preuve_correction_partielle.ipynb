{
 "cells": [
  {
   "cell_type": "markdown",
   "metadata": {},
   "source": [
    "# Preuve de correction partielle"
   ]
  },
  {
   "cell_type": "markdown",
   "metadata": {},
   "source": [
    "# Table des matières\n",
    "**[Chapitre 0 - Position du problème](#M0)**\n",
    "\n",
    "**[Chapitre 1 - Invariant de boucle](#M1)**  \n",
    " \n",
    "**[Exercice 1](#M2)** \n",
    "\n",
    "**[Solution](#M3)** \n",
    "\n",
    "**[(Exercice 2) Amélioration de la fonction mystère](#M4)**"
   ]
  },
  {
   "cell_type": "markdown",
   "metadata": {},
   "source": [
    "## <font color=#3876C2> Chapitre 0 - Position du problème</font> <a name=\"M0\"></a>"
   ]
  },
  {
   "cell_type": "markdown",
   "metadata": {},
   "source": [
    "Lorsqu'on écrit un programme il est parfois très important de vérifier qu'il est correct, c'est à dire qu'il calcule bien ce qu'on attend. C'est même vital lorsque dans certaines applications industrielles une erreur aurait un impact sur des vies humaines (on pensera par exemple aux programmes qui contrôlent la conduite des lignes de métro automatiques, ou à des programmes touchant au secteur militaire).\n",
    "Si la preuve - automatique ou non - de programmes est un vaste sujet où la recherche est active aujourd'hui, elle dépasse en général le cadre et le formalisme de ce cours. Néanmoins, un cas particulier nous est accessible : il s'agit de la preuve de la correction de boucle."
   ]
  },
  {
   "cell_type": "markdown",
   "metadata": {},
   "source": [
    "De manière plus détaillée, nous allons :\n",
    "* Montrer qu'une boucle se termine bien. On appelle ce problème la *terminaison*.\n",
    "* Montrer que si la boucle s'arrête, elle calcule bien ce qu'elle est supposée calculer. On appelle ce\n",
    "problème la <b>*correction partielle*</b>.\n",
    "* La *correction totale* est la *terminaison* et la <b>*correction partielle*</b>."
   ]
  },
  {
   "cell_type": "markdown",
   "metadata": {},
   "source": [
    "## <font color=#3876C2> Chapitre 1 - Invariant de boucle</font> <a name=\"M1\"></a>"
   ]
  },
  {
   "cell_type": "markdown",
   "metadata": {},
   "source": [
    "Les invariants de boucle sont un outil qui va permettre de montrer la correction partielle d'algorithmes.\n",
    "\n",
    "**Définition  (Invariant de boucle).**\n",
    "\n",
    "Un invariant de boucle est un prédicat qui :\n",
    "1.\test vérifié avant l'entrée d'une boucle\n",
    "2.\ts'il est vérifié avant une itération est vérifié après celle-ci\n",
    "3.\tlorsqu'il est vérifié à la sortie d'une boucle permet d'en déduire que le programme est correct"
   ]
  },
  {
   "cell_type": "markdown",
   "metadata": {},
   "source": [
    "À titre d'exemple, nous allons démontrer à l'aide d'un invariant de boucle la correction du programme suivant (qui calcule la somme des puissances k-ièmes des p premiers entiers naturels) :"
   ]
  },
  {
   "cell_type": "code",
   "execution_count": null,
   "metadata": {
    "collapsed": true
   },
   "outputs": [],
   "source": [
    "def S(p, k):\n",
    "    valeur_somme=0\n",
    "    for i in range(1,p+1) :\n",
    "        valeur_somme=valeur_somme+i**k \n",
    "    return valeur_somme"
   ]
  },
  {
   "cell_type": "code",
   "execution_count": null,
   "metadata": {
    "collapsed": true
   },
   "outputs": [],
   "source": [
    "S(5, 2)"
   ]
  },
  {
   "cell_type": "markdown",
   "metadata": {},
   "source": [
    "Nous étudions la propriété suivante (qui est notre invariant de boucle) : après n itérations de cette boucle, on a :"
   ]
  },
  {
   "cell_type": "markdown",
   "metadata": {},
   "source": [
    "$$ p_{n} \\: : \\: valeur\\_somme(n) \\: = \\:\\sum_{i=0}^{i=n} i^{k} $$"
   ]
  },
  {
   "cell_type": "markdown",
   "metadata": {},
   "source": [
    "1.La propriété $p_0$ est bien vérifiée avant l'entrée de la boucle : valeur_somme = 0 par initialisation et on a bien"
   ]
  },
  {
   "cell_type": "markdown",
   "metadata": {},
   "source": [
    "$$ \\sum_{i=0}^{i=0} i^{k} \\: = \\: 0 $$"
   ]
  },
  {
   "cell_type": "markdown",
   "metadata": {},
   "source": [
    "2.Supposons que la propriété $p_n$ soit vérifiée pour un certain n. On a alors avant la (n+1)-ème itération de cette boucle :"
   ]
  },
  {
   "cell_type": "markdown",
   "metadata": {},
   "source": [
    "$$ p_{n} \\: : \\: valeur\\_somme(n) \\: = \\:\\sum_{i=0}^{i=n} i^{k} $$"
   ]
  },
  {
   "cell_type": "markdown",
   "metadata": {},
   "source": [
    "Après la (n+1)-ème itération de cette boucle on a :"
   ]
  },
  {
   "cell_type": "markdown",
   "metadata": {},
   "source": [
    "$$ valeur\\_somme(n+1) \\: = valeur\\_somme(n) \\: + \\: i^{k+1} \\: = \\:\\sum_{i=0}^{i=n} i^{k} \\: + \\: i^{k+1}\\: = \\sum_{i=0}^{i=n+1} i^{k} \\:$$"
   ]
  },
  {
   "cell_type": "markdown",
   "metadata": {},
   "source": [
    "donc $p_{n+1}$ est bien vérifiée."
   ]
  },
  {
   "cell_type": "markdown",
   "metadata": {},
   "source": [
    "Moyennant le principe du raisonnement par récurrrence la propriété $p_n$ est bien vérifiée pour tout entier *n* naturel donc le calcul est exact ce qui achève la preuve de correction partielle."
   ]
  },
  {
   "cell_type": "markdown",
   "metadata": {},
   "source": [
    "## <font color=#3876C2> Exercice 1</font> <a name=\"M2\"></a>"
   ]
  },
  {
   "cell_type": "markdown",
   "metadata": {},
   "source": [
    "On donne la fonction suivante, en Python. Les variables $\\texttt{x}$ et\n",
    "$\\texttt{n}$ sont de type entier."
   ]
  },
  {
   "cell_type": "code",
   "execution_count": null,
   "metadata": {
    "collapsed": true
   },
   "outputs": [],
   "source": [
    "def Mystere(x,n) : # x et n sont des entiers\n",
    "    res=1\n",
    "    while n>0 :\n",
    "        if n%2==1 :\n",
    "            res=res*x\n",
    "        n=n//2\n",
    "        x=x*x\n",
    "    return res"
   ]
  },
  {
   "cell_type": "markdown",
   "metadata": {},
   "source": [
    "Faire tourner la fonction pour $x=3$ et $n=3$ :\n",
    "\n",
    "donner la valeur des variables à la fin du premier passage dans la boucle,\n",
    "puis à chaque passage dans la boucle jusqu'à la fin de l'exécution de la boucle.\n",
    "\n",
    " Même question pour $x=2$ et $n=10$. \n",
    " Que semble faire la fonction $\\texttt{Mystere}$ ?"
   ]
  },
  {
   "cell_type": "markdown",
   "metadata": {},
   "source": [
    "Conjecturer un invariant de boucle, puis prouver la correction de l'algorithme par récurrence."
   ]
  },
  {
   "cell_type": "markdown",
   "metadata": {},
   "source": [
    "## <font color=#3876C2> Solution</font> <a name=\"M3\"></a>"
   ]
  },
  {
   "cell_type": "markdown",
   "metadata": {},
   "source": []
  },
  {
   "cell_type": "markdown",
   "metadata": {},
   "source": []
  },
  {
   "cell_type": "markdown",
   "metadata": {},
   "source": []
  },
  {
   "cell_type": "markdown",
   "metadata": {},
   "source": [
    "## <font color=#3876C2> (Exercice 2) Amélioration de la fonction mystère</font> <a name=\"M4\"></a>"
   ]
  },
  {
   "cell_type": "markdown",
   "metadata": {},
   "source": [
    "Ecrire une version modifiée de la fonction  $\\texttt{Mystere}$ qui affiche la valeur des variables, un compteur du nombre\n",
    "de passage dans la boucle, et l’invariant :"
   ]
  },
  {
   "cell_type": "code",
   "execution_count": null,
   "metadata": {
    "collapsed": true
   },
   "outputs": [],
   "source": []
  }
 ],
 "metadata": {
  "hide_input": false,
  "kernelspec": {
   "display_name": "Python 3",
   "language": "python",
   "name": "python3"
  },
  "language_info": {
   "codemirror_mode": {
    "name": "ipython",
    "version": 3
   },
   "file_extension": ".py",
   "mimetype": "text/x-python",
   "name": "python",
   "nbconvert_exporter": "python",
   "pygments_lexer": "ipython3",
   "version": "3.6.3"
  }
 },
 "nbformat": 4,
 "nbformat_minor": 2
}
