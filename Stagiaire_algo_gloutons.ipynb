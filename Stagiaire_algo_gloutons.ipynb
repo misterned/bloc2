{
 "cells": [
  {
   "cell_type": "markdown",
   "metadata": {},
   "source": [
    "# Les algorithmes gloutons"
   ]
  },
  {
   "cell_type": "markdown",
   "metadata": {},
   "source": [
    "# Table des matières\n",
    "**[Chapitre 0 - Introduction](#M0)**  \n",
    "\n",
    "\n",
    "**[Chapitre 1 - Prérequis ? La récursivité](#M1)**  \n",
    "- [1. Définition](#M11)\n",
    "- [2. Factorielle](#M12) \n",
    "- [3. La tour de Hanoï](#M13) \n",
    "- [(Exercice 1) Longueur d'un mot](#M14) \n",
    "- [(Exercice 2) Palindrome](#M15)\n",
    "- [4. La récursivité : incontournable dans certains cas](#M16)  \n",
    " \n",
    "**[Chapitre 2 - Algorithmes de tri](#M2)**.   \n",
    "- [1. Le tri par sélection ou par minimums successifs](#M21)  \n",
    "- [(Exercice 3) le tri par sélection](#M22)  \n",
    "- [2. Le tri rapide ou Quick Sort](#M23)  \n",
    "\n",
    "**[Chapitre 3 - Découvrons l'algorithme glouton au travers de quelques exemples](#M3)**  \n",
    "- [1. Le problème du rendu de monnaie](#M31) \n",
    "- [2. Le problème du sac à dos](#M32)  \n",
    "- [3. Arbre couvrant](#M33)\n",
    "- [(Exercice 4) Modification de l'implémentation de l'arbre couvrant](#M34)\n"
   ]
  },
  {
   "cell_type": "markdown",
   "metadata": {},
   "source": [
    "## <font color=#3876C2> Chapitre 0 - Introduction</font> <a name=\"M0\"></a>"
   ]
  },
  {
   "cell_type": "markdown",
   "metadata": {},
   "source": [
    "Le principe de tels algorithmes consiste à choisir des solutions locales optimales d'un problème dans le but d'obtenir une solution optimale globale à un problème d'optimisation donné."
   ]
  },
  {
   "cell_type": "markdown",
   "metadata": {},
   "source": [
    "Dans un problème d'optimisation chaque solution possède une valeur, et on cherche à déterminer parmi toutes les solutions celle dont la valeur est optimale.\n",
    "\n",
    "La technique la plus basique pour résoudre ce type de problème consiste à énumérer de façon exhaustive toutes les solutions possibles, puis à choisir la meilleure. Cette approche par force brute s'implémente la plupart du temps avec des algorithmes récursifs naïfs."
   ]
  },
  {
   "cell_type": "markdown",
   "metadata": {},
   "source": [
    "Une autre alternative est donc l'utilisation de la méthode dite gloutonne. Pour construire une solution optimale avec cette technique, on va effectuer une succession de choix, chacun d'eux étant celui semblant être le meilleur sur le moment. Après chaque prise de décision, on résout alors le sous-problème qui en découle, en profitant du fait qu’une solution optimale contient la solution optimale des sous-problèmes. Particularité importante, on ne revient jamais sur un choix déjà effectué.\n",
    "\n",
    "Cette approche est naturellement récursive dans sa conception, il y a en effet toujours l'idée de se ramener à des sous-problèmes de plus petites tailles."
   ]
  },
  {
   "cell_type": "markdown",
   "metadata": {},
   "source": [
    "## <font color=#3876C2> Chapitre 1 - Prérequis ? La récursivité</font> <a name=\"M1\"></a>"
   ]
  },
  {
   "cell_type": "markdown",
   "metadata": {},
   "source": [
    "### <font color=#FEB229> 1. Définition</font> <a name=\"M11\"></a>"
   ]
  },
  {
   "cell_type": "markdown",
   "metadata": {},
   "source": [
    "Un algorithme est dit récursif si, à un moment, il s'appelle lui-même. Pour mieux comprendre, prenons le cas de la fonction récursive car c'est l'application de la récursivité la plus courante et que c'est celle que nous utiliserons par la suite. Par conséquent, une fonction récursive est une fonction qui s'auto-appelle. Voici un petit exemple :"
   ]
  },
  {
   "cell_type": "code",
   "execution_count": null,
   "metadata": {
    "collapsed": true
   },
   "outputs": [],
   "source": [
    "def f(x):\n",
    "    x = 2 * x\n",
    "    f(x)\n",
    "    return x"
   ]
  },
  {
   "cell_type": "markdown",
   "metadata": {},
   "source": [
    "Nous voyons bien que la fonction f s'appelle elle même à la ligne 3. En réalité, voilà comment l'ordinateur agit :"
   ]
  },
  {
   "cell_type": "code",
   "execution_count": null,
   "metadata": {
    "collapsed": true
   },
   "outputs": [],
   "source": [
    "def f(x):\n",
    "    x = 2 * x\n",
    "    x = 2 * x\n",
    "    x = 2 * x\n",
    "    x = 2 * x\n",
    "    x = 2 * x\n",
    "                        # ...\n",
    "    return x"
   ]
  },
  {
   "cell_type": "markdown",
   "metadata": {},
   "source": [
    "Notons que ce code n'a aucune utilité car il ne se finirait jamais, la fonction f étant indéfiniment appelée."
   ]
  },
  {
   "cell_type": "markdown",
   "metadata": {},
   "source": [
    "### <font color=#FEB229> 2. Factorielle</font> <a name=\"M12\"></a>"
   ]
  },
  {
   "cell_type": "code",
   "execution_count": null,
   "metadata": {
    "collapsed": true
   },
   "outputs": [],
   "source": [
    "def factorielleRecursive(n):\n",
    "    if n == 0:\n",
    "        return 1\n",
    "    else:\n",
    "        return n*factorielleRecursive(n-1)"
   ]
  },
  {
   "cell_type": "code",
   "execution_count": null,
   "metadata": {
    "collapsed": true
   },
   "outputs": [],
   "source": [
    "%timeit factorielleRecursive(8)"
   ]
  },
  {
   "cell_type": "code",
   "execution_count": null,
   "metadata": {
    "collapsed": true
   },
   "outputs": [],
   "source": [
    "def factorielleIterative(n):\n",
    "    resultat = 1\n",
    "    for i in range(2,n+1):\n",
    "        resultat *= i\n",
    "    return resultat"
   ]
  },
  {
   "cell_type": "code",
   "execution_count": null,
   "metadata": {
    "collapsed": true
   },
   "outputs": [],
   "source": [
    "%timeit factorielleIterative(8)"
   ]
  },
  {
   "cell_type": "markdown",
   "metadata": {},
   "source": [
    "### <font color=#FEB229> 3. La tour de Hanoï</font> <a name=\"M13\"></a>"
   ]
  },
  {
   "cell_type": "markdown",
   "metadata": {},
   "source": [
    "![Hanoi.jpeg](Hanoi.jpeg)"
   ]
  },
  {
   "cell_type": "markdown",
   "metadata": {},
   "source": [
    "Le but est de déplacer n disques de diamètres différents, d’une tour initiale (celle de gauche)\n",
    "à une tour finale (celle de droite) en passant par une tour intermédiaire (celle du milieu).\n",
    "\n",
    "Initialement, tous les disques sont empilés sur la tour initiale, du plus grand au plus petit.\n",
    "\n",
    "Les règles de déplacement sont les suivantes :\n",
    "\n",
    "-  On ne peut bouger qu’un seul disque à la fois.\n",
    "\n",
    "-  On ne peut déplacer un disque que vers une tour vide, ou sur un disque plus grand."
   ]
  },
  {
   "cell_type": "markdown",
   "metadata": {},
   "source": [
    "La résolution du problème pour toute valeur de n est récursive :\n",
    "\n",
    "- On déplace n − 1 disques de la tour initiale à la tour intermédiaire en passant par la tour finale.\n",
    "\n",
    "- On déplace le plus grand disque de la tour initiale vers la tour finale.\n",
    "\n",
    "- On déplace n - 1 disques de la tour intermédiaire à la tour finale en passant par la tour initiale."
   ]
  },
  {
   "cell_type": "code",
   "execution_count": null,
   "metadata": {
    "collapsed": true
   },
   "outputs": [],
   "source": [
    "def hanoi(de,vers,via,n):\n",
    "    if n==1:\n",
    "        print(de,\" vers \",vers)\n",
    "    else:\n",
    "        hanoi(de,via,vers,n-1)\n",
    "        print(de,\" vers \",vers)\n",
    "        hanoi(via,vers,de,n-1)\n",
    "\n",
    "\n",
    "hanoi(\"1\",\"3\",\"2\",3)"
   ]
  },
  {
   "cell_type": "markdown",
   "metadata": {},
   "source": [
    "### <font color=#FEB229> 4. (Exercice 1) Longueur d'un mot</font> <a name=\"M14\"></a>"
   ]
  },
  {
   "cell_type": "markdown",
   "metadata": {},
   "source": [
    "Ici vous allez effectuer un exercice autoévalué qui va consister à écrire la fonction qui retourne la longueur d'une chaîne de caractère trois cellules plus bas"
   ]
  },
  {
   "cell_type": "code",
   "execution_count": null,
   "metadata": {
    "collapsed": true
   },
   "outputs": [],
   "source": [
    "# chargement de l'exercice\n",
    "from corrections.exo_longueur_chaine import exo_longueur_chaine"
   ]
  },
  {
   "cell_type": "code",
   "execution_count": null,
   "metadata": {
    "collapsed": true
   },
   "outputs": [],
   "source": [
    "# exemple de sortie\n",
    "exo_longueur_chaine.example()"
   ]
  },
  {
   "cell_type": "code",
   "execution_count": null,
   "metadata": {
    "collapsed": true
   },
   "outputs": [],
   "source": [
    "def longueur_chaine(ch):\n",
    "    '''Ecrire votre fonction ici'''"
   ]
  },
  {
   "cell_type": "code",
   "execution_count": null,
   "metadata": {
    "collapsed": true
   },
   "outputs": [],
   "source": [
    "print(longueur_chaine(\"bonjour\"))"
   ]
  },
  {
   "cell_type": "code",
   "execution_count": null,
   "metadata": {
    "collapsed": true
   },
   "outputs": [],
   "source": [
    "# pour vérifier votre code\n",
    "exo_longueur_chaine.correction(longueur_chaine)"
   ]
  },
  {
   "cell_type": "markdown",
   "metadata": {},
   "source": [
    "### <font color=#FEB229> 5. (Exercice 2) Palindrome</font> <a name=\"M15\"></a>"
   ]
  },
  {
   "cell_type": "markdown",
   "metadata": {},
   "source": [
    "Ici vous allez effectuer un exercice autoévalué qui va consister à écrire la fonction qui retourne si une chaine de caractère est un palindrome ou pas trois cellules plus bas"
   ]
  },
  {
   "cell_type": "code",
   "execution_count": null,
   "metadata": {
    "collapsed": true
   },
   "outputs": [],
   "source": [
    "# chargement de l'exercice\n",
    "from corrections.exo_palindrome import exo_palindrome"
   ]
  },
  {
   "cell_type": "code",
   "execution_count": null,
   "metadata": {
    "collapsed": true
   },
   "outputs": [],
   "source": [
    "# exemple de sortie\n",
    "exo_palindrome.example()"
   ]
  },
  {
   "cell_type": "code",
   "execution_count": null,
   "metadata": {
    "collapsed": true
   },
   "outputs": [],
   "source": [
    "def palindrome(ch):\n",
    "    '''Ecrire votre fonction ici'''\n",
    "    "
   ]
  },
  {
   "cell_type": "code",
   "execution_count": null,
   "metadata": {
    "collapsed": true
   },
   "outputs": [],
   "source": [
    "palindrome(\"laval\")"
   ]
  },
  {
   "cell_type": "code",
   "execution_count": null,
   "metadata": {
    "collapsed": true
   },
   "outputs": [],
   "source": [
    "# pour vérifier votre code\n",
    "exo_palindrome.correction(palindrome)"
   ]
  },
  {
   "cell_type": "markdown",
   "metadata": {},
   "source": [
    "### <font color=#FEB229> 4. La récursivité : incontournable dans certains cas</font> <a name=\"M16\"></a>"
   ]
  },
  {
   "cell_type": "markdown",
   "metadata": {},
   "source": [
    "La récursivité peut posséder de nombreux avantages dans un algorithme. Premièrement, elle permet de résoudre des problèmes, d'habitude irrésolvables avec l'utilisation de simples boucles pour ou tant que. Elle peut aussi rendre un algorithme plus lisible et plus court, mais surtout, elle permet, dans certains cas, un gain colossal de temps comme c'est le cas dans les algorithmes de tri.\n",
    "\n",
    "Pour mieux s'en rendre compte, nous allons aborder deux algorithmes de tri différents qui ont pour but, comme leur nom l'indique, de trier des données, ici, ce sera des chiffres. Et nous allons voir que, certes, nous obtiendrons, au final, la même liste de nombres triée, mais que, cependant, le temps d'obtention ne sera absolument pas le même. On prendra, comme valeurs de départ, une liste de nombres tirés au hasard, soit une liste non triée."
   ]
  },
  {
   "cell_type": "markdown",
   "metadata": {},
   "source": [
    "## <font color=#3876C2> Chapitre 2 - Algorithmes de tris</font> <a name=\"M2\"></a>"
   ]
  },
  {
   "cell_type": "markdown",
   "metadata": {},
   "source": [
    " ### <font color=#FEB229> 1. Le tri par sélection ou par minimums successifs</font> <a name=\"M21\"></a>"
   ]
  },
  {
   "cell_type": "markdown",
   "metadata": {},
   "source": [
    "Le tri par sélection est vraisemblablement l'algorithme de tri le plus simple à comprendre et à effectuer qui existe. Cependant, il est vraiment très lent et complètement inefficace lorsqu'il doit trier beaucoup de données. Cet algorithme fonctionne de la manière suivante : on commence par dire que la 1ère valeur de la liste de nombre correspond à la valeur minimale, et on compare la valeur minimale aux autres valeurs. Si une valeur est inférieure à la valeur minimale, celle-ci est remplacée par la valeur trouvée et les comparaisons se font à partir de la nouvelle valeur minimale. Une fois toutes les valeurs comparées, on déplace la dernière valeur minimale trouvée devant la 1ère valeur de la liste. Il ne reste plus qu'à répéter cette méthode en ne partant plus de la 1ère valeur, mais de la 2e, puis 3e, puis 4e... valeur, jusqu'à l'avant dernière valeur de la liste."
   ]
  },
  {
   "cell_type": "markdown",
   "metadata": {},
   "source": [
    "### <font color=#FEB229> (Exercice 3) Le tri par sélection</font> <a name=\"M22\"></a>"
   ]
  },
  {
   "cell_type": "markdown",
   "metadata": {},
   "source": [
    "Ici vous allez effectuer un exercice autoévalué qui va consister à écrire la fonction de tri par sélection d'une liste Python trois cellules plus bas"
   ]
  },
  {
   "cell_type": "code",
   "execution_count": null,
   "metadata": {
    "collapsed": true
   },
   "outputs": [],
   "source": [
    "# chargement de l'exercice\n",
    "from corrections.exo_tri_selection import exo_tri_selection"
   ]
  },
  {
   "cell_type": "code",
   "execution_count": null,
   "metadata": {
    "collapsed": true
   },
   "outputs": [],
   "source": [
    "exo_tri_selection.example()"
   ]
  },
  {
   "cell_type": "code",
   "execution_count": null,
   "metadata": {
    "collapsed": true
   },
   "outputs": [],
   "source": [
    "def tri_selection(list):\n",
    "    '''Ecrire votre fonction ici'''\n",
    "    \n",
    "    return list"
   ]
  },
  {
   "cell_type": "markdown",
   "metadata": {},
   "source": [
    "On mesure la durée d'exécution de notre fonction à l'aide de la commande magique %timeit"
   ]
  },
  {
   "cell_type": "code",
   "execution_count": null,
   "metadata": {
    "collapsed": true
   },
   "outputs": [],
   "source": [
    "%timeit tri_selection([1, 10, 3, 5])"
   ]
  },
  {
   "cell_type": "code",
   "execution_count": null,
   "metadata": {
    "collapsed": true
   },
   "outputs": [],
   "source": [
    "# pour vérifier votre code\n",
    "exo_tri_selection.correction(tri_selection)"
   ]
  },
  {
   "cell_type": "markdown",
   "metadata": {},
   "source": [
    "### <font color=#FEB229> 2. Le tri rapide ou Quick Sort</font> <a name=\"M23\"></a>"
   ]
  },
  {
   "cell_type": "markdown",
   "metadata": {},
   "source": [
    "Le tri rapide est un autre algorithme de tri, basé sur la récursivité, qui est très utilisé pour sa relative simplicité et sa rapidité. Il consiste à choisir un nombre de la liste au hasard, que l'on appelle nombre pivot, et auquel on compare les autres valeurs de la liste. Si la valeur comparée est inférieure au nombre pivot, on la place dans une liste que l'on nomme \"inferieure\" par exemple, sinon on la place dans une liste \"superieur\". Une fois toutes les valeurs comparées, on obtient normalement 2 listes : la liste \"inferieur\" contenant toutes les valeurs inférieurs au pivot et la liste \"supérieur\" contenant toutes celles supérieures. Il ne reste plus qu'à répéter cette méthode pour les 2 listes, jusqu'à ce que celles-ci ne contiennent plus qu'une seule valeur."
   ]
  },
  {
   "cell_type": "code",
   "execution_count": null,
   "metadata": {
    "collapsed": true
   },
   "outputs": [],
   "source": [
    "import random"
   ]
  },
  {
   "cell_type": "code",
   "execution_count": null,
   "metadata": {
    "collapsed": true
   },
   "outputs": [],
   "source": [
    "def tri_rapide(list):\n",
    "    inferieur = []; pivot = []; superieur = []\n",
    "    if len(list) < 2:\n",
    "        return list\n",
    "    pivotNombre = random.choice(list)\n",
    "    for i in list:\n",
    "        if i < pivotNombre:\n",
    "            inferieur.append(i)\n",
    "        elif i > pivotNombre:\n",
    "            superieur.append(i)\n",
    "        else:\n",
    "            pivot.append(i)\n",
    "    return tri_rapide(inferieur) + pivot + tri_rapide(superieur)"
   ]
  },
  {
   "cell_type": "code",
   "execution_count": null,
   "metadata": {
    "collapsed": true
   },
   "outputs": [],
   "source": [
    "%timeit tri_rapide([1, 10, 3, 5])"
   ]
  },
  {
   "cell_type": "code",
   "execution_count": null,
   "metadata": {
    "collapsed": true
   },
   "outputs": [],
   "source": [
    "l = [random.randrange(0, 800) for i in range(5000)]"
   ]
  },
  {
   "cell_type": "code",
   "execution_count": null,
   "metadata": {
    "collapsed": true
   },
   "outputs": [],
   "source": [
    "l"
   ]
  },
  {
   "cell_type": "code",
   "execution_count": null,
   "metadata": {
    "collapsed": true
   },
   "outputs": [],
   "source": [
    "len(l)"
   ]
  },
  {
   "cell_type": "code",
   "execution_count": null,
   "metadata": {
    "collapsed": true
   },
   "outputs": [],
   "source": [
    "%timeit tri_selection(l)"
   ]
  },
  {
   "cell_type": "code",
   "execution_count": null,
   "metadata": {
    "collapsed": true
   },
   "outputs": [],
   "source": [
    "%timeit tri_rapide(l)"
   ]
  },
  {
   "cell_type": "markdown",
   "metadata": {},
   "source": [
    "## <font color=#3876C2> Chapitre 3 - Découvrons l'algorithme glouton au travers de quelques exemples</font> <a name=\"M3\"></a>"
   ]
  },
  {
   "cell_type": "markdown",
   "metadata": {},
   "source": [
    "### <font color=#FEB229> 1. Le problème du rendu de monnaie</font> <a name=\"M31\"></a>"
   ]
  },
  {
   "cell_type": "markdown",
   "metadata": {},
   "source": [
    "Imaginons un caissier devant rendre la monnaie. Le problème que nous étudions est de minimiser le nombre de pièces rendues pour un montant fixé.\n",
    "\n",
    "Suivant le système de pièces, l'algorithme glouton est optimal ou pas. Dans le système de pièces européen (en centimes : 1, 2, 5, 10, 20, 50, 100, 200), où l'algorithme glouton donne la somme suivante pour 37 : 20+10+5+2, on peut montrer que l'algorithme glouton donne toujours une solution optimale.\n",
    "\n",
    "Dans le système de pièces (1, 3, 4), l'algorithme glouton n'est pas optimal, comme le montre l'exemple simple suivant. Il donne pour 6 : 4+1+1, alors que 3+3 est optimal."
   ]
  },
  {
   "cell_type": "markdown",
   "metadata": {},
   "source": [
    "#### Solution naïve"
   ]
  },
  {
   "cell_type": "markdown",
   "metadata": {},
   "source": [
    "La solution a laquelle on pense immédiatement est d'énumérer toutes les combinaisons de possibles, de sélectionner celles qui impliquent un minimum de pièces et de choisir la meilleure.\n",
    "\n",
    "Cette solution, dite de force brute, fonctionnera toujours mais est très loin d'être efficace.\n",
    "En effet, si elle est simple dans certains cas, elle implique en général un nombre très important de combinaisons différentes, ce qui nuit grandement à l'efficacité de notre solution.\n",
    "\n",
    "Notre tâche va donc être de formuler une solution plus efficace pour ce type de problème."
   ]
  },
  {
   "cell_type": "markdown",
   "metadata": {},
   "source": [
    "#### Méthode"
   ]
  },
  {
   "cell_type": "markdown",
   "metadata": {},
   "source": [
    "La méthode gloutonne vise donc à optimiser la résolution d'un problème en partant du principe suivant : des choix locaux optimaux, étape après étape, devraient produire un résultat global optimal.\n",
    "\n",
    "Dans notre cas, on va répéter le choix de la pièce de plus grande valeur qui ne dépasse pas la somme restante."
   ]
  },
  {
   "cell_type": "markdown",
   "metadata": {},
   "source": [
    "#### Implémentation"
   ]
  },
  {
   "cell_type": "markdown",
   "metadata": {},
   "source": [
    "On va récupérer les données sous forme d'une liste (pour le système monétaire en vigueur) et d'un entier (pour le rendu).\n",
    "De là, tant que le rendu est supérieur à la pièce de plus haute valeur (située en première position dans la liste) on retranchera la valeur de cette pièce au rendu et on ajoutera la pièce dans une liste qui constituera la solution.\n",
    "\n",
    "Si le rendu est inférieur à la pièce de plus haute valeur en cours, la fonction s'appellera récursivement en ne considérant plus la pièce de plus haute valeur. C'est alors la seconde pièce qui joue ce rôle, et ainsi de suite."
   ]
  },
  {
   "cell_type": "code",
   "execution_count": null,
   "metadata": {
    "collapsed": true
   },
   "outputs": [],
   "source": [
    "# greedy signifie glouton en anglais\n",
    "def greedyMethod(moneySystem, giveBack, solution):\n",
    "  if giveBack == 0:\n",
    "    return solution\n",
    "  while giveBack >= moneySystem[0]:\n",
    "    giveBack -= moneySystem[0]\n",
    "    solution.append(moneySystem[0])\n",
    "  else:\n",
    "    return greedyMethod(moneySystem[1:len(moneySystem)], giveBack, solution)"
   ]
  },
  {
   "cell_type": "markdown",
   "metadata": {},
   "source": [
    "Optimal"
   ]
  },
  {
   "cell_type": "code",
   "execution_count": null,
   "metadata": {
    "collapsed": true
   },
   "outputs": [],
   "source": [
    "greedyMethod([200,100,50,20,10,5,2,1], 45, [])"
   ]
  },
  {
   "cell_type": "markdown",
   "metadata": {},
   "source": [
    "Pas optimal"
   ]
  },
  {
   "cell_type": "code",
   "execution_count": null,
   "metadata": {
    "collapsed": true
   },
   "outputs": [],
   "source": [
    "greedyMethod([4,3,1], 6, [])"
   ]
  },
  {
   "cell_type": "markdown",
   "metadata": {},
   "source": [
    "### <font color=#FEB229> 2. Le problème du sac à dos</font> <a name=\"M32\"></a>"
   ]
  },
  {
   "cell_type": "markdown",
   "metadata": {},
   "source": [
    "On dispose d'un set S contenant n objets. $$ \\: Chaque \\: objet \\: i \\: possède \\: une \\: valeur  \\: b_{i} \\: et \\: un \\: poids \\: w_{i}  \\: .$$\n",
    "\n",
    "On souhaiterait prendre une partie T de ces objets dans notre sac-à-dos, malheureusement, ce dernier dispose d'une capacité limitée W. On ne pourra pas toujours mettre tous les objets dans le sac étant donné que la somme des poids des objets ne peut pas dépasser la capacité maximale.\n",
    "On va cependant chercher à maximiser la somme des valeurs des objets qu'on va emporter avec soi.\n",
    "\n",
    "Mathématiquement, cela se traduit par $$ \\max_{T\\subseteq S}\\sum_{i\\in T}b_{i}\\mbox{ avec }\\sum_{i \\in T} w_{i}\\leq W $$."
   ]
  },
  {
   "cell_type": "markdown",
   "metadata": {},
   "source": [
    "#### Solution naïve"
   ]
  },
  {
   "cell_type": "markdown",
   "metadata": {},
   "source": [
    "On pourrait être tenté d'énumérer toutes les combinaisons d'objets possibles qui satisfont à la capacité maximale du sac ou qui s'en rapprochent (le sac ne doit pas être obligatoirement rempli à fond). Néanmoins, on arrive rapidement à des calculs lourds, rendant le programme inefficace.\n",
    "\n",
    "À nouveau, la solution de force brute fonctionne, mais ne doit pas être choisie. On va résoudre ce problème au moyen de la méthode gloutonne."
   ]
  },
  {
   "cell_type": "markdown",
   "metadata": {},
   "source": [
    "#### Méthode"
   ]
  },
  {
   "cell_type": "markdown",
   "metadata": {},
   "source": [
    "L'idée à suivre, si on veut développer une méthode gloutonne, est d'ajouter les objets de valeurs élevées en premier, jusqu'à saturation du sac.\n",
    "Cette méthode est parfois efficace, mais parfois pas.\n",
    "Prenons un exemple, afin d'illustrer cela.\n",
    "\n",
    "Prenons un exemple, afin d'illustrer cela.</p><p id=\"r-526726\" data-claire-element-id=\"526726\">Supposons qu'on dispose d'un sac de capacité W=26 et du set d'objets que voici</p><table id=\"r-526821\" data-claire-element-id=\"526821\"><tbody id=\"r-526820\" data-claire-element-id=\"526820\"><tr id=\"r-526757\" data-claire-element-id=\"526757\"><td id=\"r-526728\" data-claire-element-id=\"526728\"><p id=\"r-526727\" data-claire-element-id=\"526727\">Objets</p></td><td id=\"r-526730\" data-claire-element-id=\"526730\"><p id=\"r-526729\" data-claire-element-id=\"526729\">A</p></td><td id=\"r-526732\" data-claire-element-id=\"526732\"><p id=\"r-526731\" data-claire-element-id=\"526731\">B</p></td><td id=\"r-526734\" data-claire-element-id=\"526734\"><p id=\"r-526733\" data-claire-element-id=\"526733\">C</p></td><td id=\"r-526736\" data-claire-element-id=\"526736\"><p id=\"r-526735\" data-claire-element-id=\"526735\">D</p></td><td id=\"r-526738\" data-claire-element-id=\"526738\"><p id=\"r-526737\" data-claire-element-id=\"526737\">E</p></td><td id=\"r-526740\" data-claire-element-id=\"526740\"><p id=\"r-526739\" data-claire-element-id=\"526739\">F</p></td><td id=\"r-526742\" data-claire-element-id=\"526742\"><p id=\"r-526741\" data-claire-element-id=\"526741\">G</p></td><td id=\"r-526744\" data-claire-element-id=\"526744\"><p id=\"r-526743\" data-claire-element-id=\"526743\">H</p></td><td id=\"r-526746\" data-claire-element-id=\"526746\"><p id=\"r-526745\" data-claire-element-id=\"526745\">I</p></td><td id=\"r-526748\" data-claire-element-id=\"526748\"><p id=\"r-526747\" data-claire-element-id=\"526747\">J</p></td><td id=\"r-526750\" data-claire-element-id=\"526750\"><p id=\"r-526749\" data-claire-element-id=\"526749\">K</p></td><td id=\"r-526752\" data-claire-element-id=\"526752\"><p id=\"r-526751\" data-claire-element-id=\"526751\">L</p></td><td id=\"r-526754\" data-claire-element-id=\"526754\"><p id=\"r-526753\" data-claire-element-id=\"526753\">M</p></td><td id=\"r-526756\" data-claire-element-id=\"526756\"><p id=\"r-526755\" data-claire-element-id=\"526755\">N</p></td></tr><tr id=\"r-526788\" data-claire-element-id=\"526788\"><td id=\"r-526759\" data-claire-element-id=\"526759\"><p id=\"r-526758\" data-claire-element-id=\"526758\">Valeurs</p></td><td id=\"r-526761\" data-claire-element-id=\"526761\"><p id=\"r-526760\" data-claire-element-id=\"526760\">4</p></td><td id=\"r-526763\" data-claire-element-id=\"526763\"><p id=\"r-526762\" data-claire-element-id=\"526762\">3</p></td><td id=\"r-526765\" data-claire-element-id=\"526765\"><p id=\"r-526764\" data-claire-element-id=\"526764\">8</p></td><td id=\"r-526767\" data-claire-element-id=\"526767\"><p id=\"r-526766\" data-claire-element-id=\"526766\">5</p></td><td id=\"r-526769\" data-claire-element-id=\"526769\"><p id=\"r-526768\" data-claire-element-id=\"526768\">10</p></td><td id=\"r-526771\" data-claire-element-id=\"526771\"><p id=\"r-526770\" data-claire-element-id=\"526770\">7</p></td><td id=\"r-526773\" data-claire-element-id=\"526773\"><p id=\"r-526772\" data-claire-element-id=\"526772\">1</p></td><td id=\"r-526775\" data-claire-element-id=\"526775\"><p id=\"r-526774\" data-claire-element-id=\"526774\">7</p></td><td id=\"r-526777\" data-claire-element-id=\"526777\"><p id=\"r-526776\" data-claire-element-id=\"526776\">3</p></td><td id=\"r-526779\" data-claire-element-id=\"526779\"><p id=\"r-526778\" data-claire-element-id=\"526778\">3</p></td><td id=\"r-526781\" data-claire-element-id=\"526781\"><p id=\"r-526780\" data-claire-element-id=\"526780\">6</p></td><td id=\"r-526783\" data-claire-element-id=\"526783\"><p id=\"r-526782\" data-claire-element-id=\"526782\">12</p></td><td id=\"r-526785\" data-claire-element-id=\"526785\"><p id=\"r-526784\" data-claire-element-id=\"526784\">2</p></td><td id=\"r-526787\" data-claire-element-id=\"526787\"><p id=\"r-526786\" data-claire-element-id=\"526786\">4</p></td></tr><tr id=\"r-526819\" data-claire-element-id=\"526819\"><td id=\"r-526790\" data-claire-element-id=\"526790\"><p id=\"r-526789\" data-claire-element-id=\"526789\">Poids</p></td><td id=\"r-526792\" data-claire-element-id=\"526792\"><p id=\"r-526791\" data-claire-element-id=\"526791\">2</p></td><td id=\"r-526794\" data-claire-element-id=\"526794\"><p id=\"r-526793\" data-claire-element-id=\"526793\">2</p></td><td id=\"r-526796\" data-claire-element-id=\"526796\"><p id=\"r-526795\" data-claire-element-id=\"526795\">5</p></td><td id=\"r-526798\" data-claire-element-id=\"526798\"><p id=\"r-526797\" data-claire-element-id=\"526797\">2</p></td><td id=\"r-526800\" data-claire-element-id=\"526800\"><p id=\"r-526799\" data-claire-element-id=\"526799\">7</p></td><td id=\"r-526802\" data-claire-element-id=\"526802\"><p id=\"r-526801\" data-claire-element-id=\"526801\">4</p></td><td id=\"r-526804\" data-claire-element-id=\"526804\"><p id=\"r-526803\" data-claire-element-id=\"526803\">1</p></td><td id=\"r-526806\" data-claire-element-id=\"526806\"><p id=\"r-526805\" data-claire-element-id=\"526805\">4</p></td><td id=\"r-526808\" data-claire-element-id=\"526808\"><p id=\"r-526807\" data-claire-element-id=\"526807\">2</p></td><td id=\"r-526810\" data-claire-element-id=\"526810\"><p id=\"r-526809\" data-claire-element-id=\"526809\">1</p></td><td id=\"r-526812\" data-claire-element-id=\"526812\"><p id=\"r-526811\" data-claire-element-id=\"526811\">4</p></td><td id=\"r-526814\" data-claire-element-id=\"526814\"><p id=\"r-526813\" data-claire-element-id=\"526813\">10</p></td><td id=\"r-526816\" data-claire-element-id=\"526816\"><p id=\"r-526815\" data-claire-element-id=\"526815\">2</p></td><td id=\"r-526818\" data-claire-element-id=\"526818\"><p id=\"r-526817\" data-claire-element-id=\"526817\">1</p></td><p id=\"r-526822\" data-claire-element-id=\"526822\"><em>Set d'objets à notre disposition</em></p></tr></tbody></table><p id=\"r-526823\" data-claire-element-id=\"526823\">Suivons le principe de la méthode et prenons les objets de meilleure valeur.<br> Ça nous donne le sous-set d'objets suivant :</p><p id=\"r-526824\" data-claire-element-id=\"526824\">L(12,10); E(10,7); C(8,5); F(7,4)</p><p id=\"r-526825\" data-claire-element-id=\"526825\">Notre sac est tout juste saturé et la somme des valeurs des objets qu'il contient est de 37.</p><div id=\"r-526827\" data-claire-element-id=\"526827\" data-claire-semantic=\"question\"><p id=\"r-526826\" data-claire-element-id=\"526826\">Cette solution est-elle optimale ?</p></div><p id=\"r-526828\" data-claire-element-id=\"526828\">Rien, <em>a priori</em>, ne garantit l'optimalité de cette solution. </p>"
   ]
  },
  {
   "cell_type": "markdown",
   "metadata": {},
   "source": [
    "#### Implémentation"
   ]
  },
  {
   "cell_type": "code",
   "execution_count": null,
   "metadata": {
    "collapsed": true
   },
   "outputs": [],
   "source": [
    "# set d'objets sous la forme \\\"liste de liste\\\" \n",
    "# (e.g. [[objet1, valeur1, poids1],[objet2,valeur2,poids2]])\n",
    "# par ordre décroissant de valeur \n",
    "def knapSack(totalWeight, objects):\n",
    "    currentWeight = 0\n",
    "    subSet = []\n",
    "    for counter in range(len(objects)):\n",
    "                         if currentWeight + objects[counter][-1] <= totalWeight:\n",
    "                             currentWeight += objects[counter][-1]\n",
    "                             subSet.append(objects[counter])\n",
    "    return subSet\n"
   ]
  },
  {
   "cell_type": "code",
   "execution_count": null,
   "metadata": {
    "collapsed": true
   },
   "outputs": [],
   "source": [
    "knapSack(43, [['A', 5, 4],['B',7,13],['C', 8, 9],['D',17,23],['E', 15, 14],['F',17,23]])"
   ]
  },
  {
   "cell_type": "markdown",
   "metadata": {},
   "source": [
    "### <font color=#FEB229> 3. Arbre couvrant</font> <a name=\"M33\"></a>"
   ]
  },
  {
   "cell_type": "markdown",
   "metadata": {},
   "source": [
    "Dans un graphe aux arêtes pondérées on recherche un arbre couvrant de poids minimal (en anglais Minimum Spanning Tree)"
   ]
  },
  {
   "cell_type": "markdown",
   "metadata": {},
   "source": [
    "Vidéo qui permet de comprendre les notions mathématiques ainsi que l'algorithme de Prim :"
   ]
  },
  {
   "cell_type": "code",
   "execution_count": null,
   "metadata": {
    "collapsed": true
   },
   "outputs": [],
   "source": [
    "from IPython.display import HTML\n",
    "\n",
    "HTML('<iframe width=\"560\" height=\"315\" src=\"https://www.youtube.com/embed/I0uiQyAs5G4\" frameborder=\"0\" allow=\"accelerometer; autoplay; encrypted-media; gyroscope; picture-in-picture\" allowfullscreen></iframe>')"
   ]
  },
  {
   "cell_type": "markdown",
   "metadata": {},
   "source": [
    "Implémentation de l'algorithme de Prim"
   ]
  },
  {
   "cell_type": "markdown",
   "metadata": {},
   "source": [
    "Lexique : vertex = sommet ; edge = arête"
   ]
  },
  {
   "cell_type": "code",
   "execution_count": null,
   "metadata": {
    "collapsed": true
   },
   "outputs": [],
   "source": [
    "class Graph:\n",
    "    def __init__(self):\n",
    "        # dictionary containing keys that map to the corresponding vertex object\n",
    "        self.vertices = {}\n",
    " \n",
    "    def add_vertex(self, key):\n",
    "        \"\"\"Add a vertex with the given key to the graph.\"\"\"\n",
    "        vertex = Vertex(key)\n",
    "        self.vertices[key] = vertex\n",
    " \n",
    "    def get_vertex(self, key):\n",
    "        \"\"\"Return vertex object with the corresponding key.\"\"\"\n",
    "        return self.vertices[key]\n",
    " \n",
    "    def __contains__(self, key):\n",
    "        return key in self.vertices\n",
    " \n",
    "    def add_edge(self, src_key, dest_key, weight=1):\n",
    "        \"\"\"Add edge from src_key to dest_key with given weight.\"\"\"\n",
    "        self.vertices[src_key].add_neighbour(self.vertices[dest_key], weight)\n",
    " \n",
    "    def does_edge_exist(self, src_key, dest_key):\n",
    "        \"\"\"Return True if there is an edge from src_key to dest_key.\"\"\"\n",
    "        return self.vertices[src_key].does_it_point_to(self.vertices[dest_key])\n",
    " \n",
    "    def display(self):\n",
    "        print('Vertices: ', end='')\n",
    "        for v in self:\n",
    "            print(v.get_key(), end=' ')\n",
    "        print()\n",
    " \n",
    "        print('Edges: ')\n",
    "        for v in self:\n",
    "            for dest in v.get_neighbours():\n",
    "                w = v.get_weight(dest)\n",
    "                print('(src={}, dest={}, weight={}) '.format(v.get_key(),\n",
    "                                                             dest.get_key(), w))\n",
    " \n",
    "    def __len__(self):\n",
    "        return len(self.vertices)\n",
    " \n",
    "    def __iter__(self):\n",
    "        return iter(self.vertices.values())"
   ]
  },
  {
   "cell_type": "code",
   "execution_count": null,
   "metadata": {
    "collapsed": true
   },
   "outputs": [],
   "source": [
    "class Vertex:\n",
    "    def __init__(self, key):\n",
    "        self.key = key\n",
    "        self.points_to = {}\n",
    " \n",
    "    def get_key(self):\n",
    "        \"\"\"Return key corresponding to this vertex object.\"\"\"\n",
    "        return self.key\n",
    " \n",
    "    def add_neighbour(self, dest, weight):\n",
    "        \"\"\"Make this vertex point to dest with given edge weight.\"\"\"\n",
    "        self.points_to[dest] = weight\n",
    " \n",
    "    def get_neighbours(self):\n",
    "        \"\"\"Return all vertices pointed to by this vertex.\"\"\"\n",
    "        return self.points_to.keys()\n",
    " \n",
    "    def get_weight(self, dest):\n",
    "        \"\"\"Get weight of edge from this vertex to dest.\"\"\"\n",
    "        return self.points_to[dest]\n",
    " \n",
    "    def does_it_point_to(self, dest):\n",
    "        \"\"\"Return True if this vertex points to dest.\"\"\"\n",
    "        return dest in self.points_to"
   ]
  },
  {
   "cell_type": "code",
   "execution_count": null,
   "metadata": {
    "collapsed": true
   },
   "outputs": [],
   "source": [
    "def mst_prim(g):\n",
    "    \"\"\"Return a minimum cost spanning tree of the connected graph g.\"\"\"\n",
    "    mst = Graph() # create new Graph object to hold the MST\n",
    " \n",
    "    # if graph is empty\n",
    "    if not g:\n",
    "        return mst\n",
    " \n",
    "    # nearest_neighbour[v] is the nearest neighbour of v that is in the MST\n",
    "    # (v is a vertex outside the MST and has at least one neighbour in the MST)\n",
    "    nearest_neighbour = {}\n",
    "    # smallest_distance[v] is the distance of v to its nearest neighbour in the MST\n",
    "    # (v is a vertex outside the MST and has at least one neighbour in the MST)\n",
    "    smallest_distance = {}\n",
    "    # v is in unvisited iff v has not been added to the MST\n",
    "    unvisited = set(g)\n",
    " \n",
    "    u = next(iter(g)) # select any one vertex from g\n",
    "    mst.add_vertex(u.get_key()) # add a copy of it to the MST\n",
    "    unvisited.remove(u)\n",
    " \n",
    "    # for each neighbour of vertex u\n",
    "    for n in u.get_neighbours():\n",
    "        if n is u:\n",
    "            # avoid self-loops\n",
    "            continue\n",
    "        # update dictionaries\n",
    "        nearest_neighbour[n] = mst.get_vertex(u.get_key())\n",
    "        smallest_distance[n] = u.get_weight(n)\n",
    " \n",
    "    # loop until smallest_distance becomes empty\n",
    "    while (smallest_distance):\n",
    "        # get nearest vertex outside the MST\n",
    "        outside_mst = min(smallest_distance, key=smallest_distance.get)\n",
    "        # get the nearest neighbour inside the MST\n",
    "        inside_mst = nearest_neighbour[outside_mst]\n",
    " \n",
    "        # add a copy of the outside vertex to the MST\n",
    "        mst.add_vertex(outside_mst.get_key())\n",
    "        # add the edge to the MST\n",
    "        mst.add_edge(outside_mst.get_key(), inside_mst.get_key(),\n",
    "                     smallest_distance[outside_mst])\n",
    "        mst.add_edge(inside_mst.get_key(), outside_mst.get_key(),\n",
    "                     smallest_distance[outside_mst])\n",
    " \n",
    "        # now that outside_mst has been added to the MST, remove it from our\n",
    "        # dictionaries and the set unvisited\n",
    "        unvisited.remove(outside_mst)\n",
    "        del smallest_distance[outside_mst]\n",
    "        del nearest_neighbour[outside_mst]\n",
    " \n",
    "        # update dictionaries\n",
    "        for n in outside_mst.get_neighbours():\n",
    "            if n in unvisited:\n",
    "                if n not in smallest_distance:\n",
    "                    smallest_distance[n] = outside_mst.get_weight(n)\n",
    "                    nearest_neighbour[n] = mst.get_vertex(outside_mst.get_key())\n",
    "                else:\n",
    "                    if smallest_distance[n] > outside_mst.get_weight(n):\n",
    "                        smallest_distance[n] = outside_mst.get_weight(n)\n",
    "                        nearest_neighbour[n] = mst.get_vertex(outside_mst.get_key())\n",
    " \n",
    "    return mst"
   ]
  },
  {
   "cell_type": "code",
   "execution_count": null,
   "metadata": {
    "collapsed": true
   },
   "outputs": [],
   "source": [
    "g = Graph()\n",
    "print('Undirected Graph')\n",
    "print('Menu')\n",
    "print('add vertex <key>')\n",
    "print('add edge <src> <dest> <weight>')\n",
    "print('mst')\n",
    "print('display')\n",
    "print('quit')\n",
    " \n",
    "while True:\n",
    "    do = input('What would you like to do? ').split()\n",
    " \n",
    "    operation = do[0]\n",
    "    if operation == 'add':\n",
    "        suboperation = do[1]\n",
    "        if suboperation == 'vertex':\n",
    "            key = int(do[2])\n",
    "            if key not in g:\n",
    "                g.add_vertex(key)\n",
    "            else:\n",
    "                print('Vertex already exists.')\n",
    "        elif suboperation == 'edge':\n",
    "            src = int(do[2])\n",
    "            dest = int(do[3])\n",
    "            weight = int(do[4])\n",
    "            if src not in g:\n",
    "                print('Vertex {} does not exist.'.format(src))\n",
    "            elif dest not in g:\n",
    "                print('Vertex {} does not exist.'.format(dest))\n",
    "            else:\n",
    "                if not g.does_edge_exist(src, dest):\n",
    "                    g.add_edge(src, dest, weight)\n",
    "                    g.add_edge(dest, src, weight)\n",
    "                else:\n",
    "                    print('Edge already exists.')\n",
    " \n",
    "    elif operation == 'mst':\n",
    "        mst = mst_prim(g)\n",
    "        print('Minimum Spanning Tree:')\n",
    "        mst.display()\n",
    "        print()\n",
    " \n",
    "    elif operation == 'display':\n",
    "        g.display()\n",
    "        print()\n",
    " \n",
    "    elif operation == 'quit':\n",
    "        break"
   ]
  },
  {
   "cell_type": "markdown",
   "metadata": {},
   "source": [
    "### <font color=#FEB229> (Exercice 4) Modification de l'implémentation de l'arbre couvrant</font> <a name=\"M34\"></a>"
   ]
  },
  {
   "cell_type": "markdown",
   "metadata": {},
   "source": [
    "Modifier le programme précédent afin qu'il affiche non seulement l'arbre couvrant de poids minimal mais également le poids minimal"
   ]
  },
  {
   "cell_type": "markdown",
   "metadata": {},
   "source": [
    "<a href='Cours_prim_krustal.pdf')>Cours sur l'agorithme de Prim et un autre glouton : Krustal</a>\n"
   ]
  }
 ],
 "metadata": {
  "hide_input": false,
  "kernelspec": {
   "display_name": "Python 3",
   "language": "python",
   "name": "python3"
  },
  "language_info": {
   "codemirror_mode": {
    "name": "ipython",
    "version": 3
   },
   "file_extension": ".py",
   "mimetype": "text/x-python",
   "name": "python",
   "nbconvert_exporter": "python",
   "pygments_lexer": "ipython3",
   "version": "3.6.3"
  }
 },
 "nbformat": 4,
 "nbformat_minor": 2
}
